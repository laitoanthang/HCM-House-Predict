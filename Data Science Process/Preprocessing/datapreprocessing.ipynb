{
 "cells": [
  {
   "attachments": {},
   "cell_type": "markdown",
   "metadata": {},
   "source": [
    "### Import necessary libraries"
   ]
  },
  {
   "cell_type": "code",
   "execution_count": 1,
   "metadata": {},
   "outputs": [],
   "source": [
    "import matplotlib.pyplot as plt\n",
    "import seaborn as sns\n",
    "import pandas as pd\n",
    "import numpy as np"
   ]
  },
  {
   "attachments": {},
   "cell_type": "markdown",
   "metadata": {},
   "source": [
    "2. DATA EXPLORATION (KHÁM PHÁ DỮ LIỆU - ĐAN XEN TIỀN XỬ LÝ DỮ LIỆU)\n",
    "\n",
    "Get data in file \"inf.csv\" and save it into dataframe df_info"
   ]
  },
  {
   "cell_type": "code",
   "execution_count": 2,
   "metadata": {},
   "outputs": [
    {
     "data": {
      "text/html": [
       "<div>\n",
       "<style scoped>\n",
       "    .dataframe tbody tr th:only-of-type {\n",
       "        vertical-align: middle;\n",
       "    }\n",
       "\n",
       "    .dataframe tbody tr th {\n",
       "        vertical-align: top;\n",
       "    }\n",
       "\n",
       "    .dataframe thead th {\n",
       "        text-align: right;\n",
       "    }\n",
       "</style>\n",
       "<table border=\"1\" class=\"dataframe\">\n",
       "  <thead>\n",
       "    <tr style=\"text-align: right;\">\n",
       "      <th></th>\n",
       "      <th>Id</th>\n",
       "      <th>Title</th>\n",
       "      <th>Price</th>\n",
       "      <th>Square</th>\n",
       "      <th>District</th>\n",
       "      <th>City</th>\n",
       "      <th>Date</th>\n",
       "    </tr>\n",
       "  </thead>\n",
       "  <tbody>\n",
       "    <tr>\n",
       "      <th>0</th>\n",
       "      <td>2127880</td>\n",
       "      <td>Phòng nội thất cao cấp ưu tiên nữ, gần vòng xo...</td>\n",
       "      <td>2.9 Triệu/tháng</td>\n",
       "      <td>22m²</td>\n",
       "      <td>Tân Phú</td>\n",
       "      <td>Hồ Chí Minh</td>\n",
       "      <td>\\r\\n08/12/2022</td>\n",
       "    </tr>\n",
       "    <tr>\n",
       "      <th>1</th>\n",
       "      <td>2127970</td>\n",
       "      <td>Nhà Cho Thuê RỘNG RÃI - THOÁNG MÁT - AN NINH -...</td>\n",
       "      <td>3.5 Triệu/tháng</td>\n",
       "      <td>52.5m²</td>\n",
       "      <td>Quận 9</td>\n",
       "      <td>Hồ Chí Minh</td>\n",
       "      <td>\\r\\n08/12/2022</td>\n",
       "    </tr>\n",
       "    <tr>\n",
       "      <th>2</th>\n",
       "      <td>2127186</td>\n",
       "      <td>Cho thuê mặt bằng KD và phòng trọ số 36/66 Ngu...</td>\n",
       "      <td>2 Triệu/tháng</td>\n",
       "      <td>6m²</td>\n",
       "      <td>Bình Thạnh</td>\n",
       "      <td>Hồ Chí Minh</td>\n",
       "      <td>\\r\\n07/12/2022</td>\n",
       "    </tr>\n",
       "    <tr>\n",
       "      <th>3</th>\n",
       "      <td>2122158</td>\n",
       "      <td>Thuê phòng 2.5 triệu 20m2 căn bìa tầng trệt gầ...</td>\n",
       "      <td>2.5 Triệu/tháng</td>\n",
       "      <td>20m²</td>\n",
       "      <td>Quận 4</td>\n",
       "      <td>Hồ Chí Minh</td>\n",
       "      <td>\\r\\n29/11/2022</td>\n",
       "    </tr>\n",
       "    <tr>\n",
       "      <th>4</th>\n",
       "      <td>2119311</td>\n",
       "      <td>Cho thuê phòng ĐẸP 16m2 đường Thành Thái-Q10, ...</td>\n",
       "      <td>5 Triệu/tháng</td>\n",
       "      <td>16m²</td>\n",
       "      <td>Quận 10</td>\n",
       "      <td>Hồ Chí Minh</td>\n",
       "      <td>\\r\\n25/11/2022</td>\n",
       "    </tr>\n",
       "  </tbody>\n",
       "</table>\n",
       "</div>"
      ],
      "text/plain": [
       "        Id                                              Title  \\\n",
       "0  2127880  Phòng nội thất cao cấp ưu tiên nữ, gần vòng xo...   \n",
       "1  2127970  Nhà Cho Thuê RỘNG RÃI - THOÁNG MÁT - AN NINH -...   \n",
       "2  2127186  Cho thuê mặt bằng KD và phòng trọ số 36/66 Ngu...   \n",
       "3  2122158  Thuê phòng 2.5 triệu 20m2 căn bìa tầng trệt gầ...   \n",
       "4  2119311  Cho thuê phòng ĐẸP 16m2 đường Thành Thái-Q10, ...   \n",
       "\n",
       "              Price  Square    District         City             Date  \n",
       "0  2.9 Triệu/tháng     22m²     Tân Phú  Hồ Chí Minh  \\r\\n08/12/2022   \n",
       "1  3.5 Triệu/tháng   52.5m²      Quận 9  Hồ Chí Minh  \\r\\n08/12/2022   \n",
       "2    2 Triệu/tháng      6m²  Bình Thạnh  Hồ Chí Minh  \\r\\n07/12/2022   \n",
       "3  2.5 Triệu/tháng     20m²      Quận 4  Hồ Chí Minh  \\r\\n29/11/2022   \n",
       "4    5 Triệu/tháng     16m²     Quận 10  Hồ Chí Minh  \\r\\n25/11/2022   "
      ]
     },
     "execution_count": 2,
     "metadata": {},
     "output_type": "execute_result"
    }
   ],
   "source": [
    "df_info = pd.read_csv('inf.csv')\n",
    "df_info.head()"
   ]
  },
  {
   "cell_type": "code",
   "execution_count": 3,
   "metadata": {},
   "outputs": [
    {
     "data": {
      "text/html": [
       "<div>\n",
       "<style scoped>\n",
       "    .dataframe tbody tr th:only-of-type {\n",
       "        vertical-align: middle;\n",
       "    }\n",
       "\n",
       "    .dataframe tbody tr th {\n",
       "        vertical-align: top;\n",
       "    }\n",
       "\n",
       "    .dataframe thead th {\n",
       "        text-align: right;\n",
       "    }\n",
       "</style>\n",
       "<table border=\"1\" class=\"dataframe\">\n",
       "  <thead>\n",
       "    <tr style=\"text-align: right;\">\n",
       "      <th></th>\n",
       "      <th>Title</th>\n",
       "      <th>Price</th>\n",
       "      <th>Square</th>\n",
       "      <th>District</th>\n",
       "      <th>City</th>\n",
       "      <th>Date</th>\n",
       "    </tr>\n",
       "    <tr>\n",
       "      <th>Id</th>\n",
       "      <th></th>\n",
       "      <th></th>\n",
       "      <th></th>\n",
       "      <th></th>\n",
       "      <th></th>\n",
       "      <th></th>\n",
       "    </tr>\n",
       "  </thead>\n",
       "  <tbody>\n",
       "    <tr>\n",
       "      <th>478324</th>\n",
       "      <td>Cho thuê phòng để ở tại 108/64A1 Trần Quang Di...</td>\n",
       "      <td>3.5 Triệu/tháng</td>\n",
       "      <td>18m²</td>\n",
       "      <td>Quận 3</td>\n",
       "      <td>Hồ Chí Minh</td>\n",
       "      <td>\\r\\n20/06/2020</td>\n",
       "    </tr>\n",
       "    <tr>\n",
       "      <th>728993</th>\n",
       "      <td>Phòng vừa xây xong thoáng mát gần các trường Đ...</td>\n",
       "      <td>3.3 Triệu/tháng</td>\n",
       "      <td>25 m²</td>\n",
       "      <td>Quận 7</td>\n",
       "      <td>Hồ Chí Minh</td>\n",
       "      <td>\\r\\n17/10/2018</td>\n",
       "    </tr>\n",
       "    <tr>\n",
       "      <th>781296</th>\n",
       "      <td>Cần share lại gấp phòng trọ mới thuê tại đường...</td>\n",
       "      <td>3 Triệu/tháng</td>\n",
       "      <td>15m²</td>\n",
       "      <td>Quận 10</td>\n",
       "      <td>Hồ Chí Minh</td>\n",
       "      <td>\\r\\n05/10/2018</td>\n",
       "    </tr>\n",
       "    <tr>\n",
       "      <th>781448</th>\n",
       "      <td>Chính chủ cho thuê căn hộ dịch vụ gần sân bay ...</td>\n",
       "      <td>7 Triệu/tháng</td>\n",
       "      <td>27m²</td>\n",
       "      <td>Tân Bình</td>\n",
       "      <td>Hồ Chí Minh</td>\n",
       "      <td>\\r\\n06/10/2018</td>\n",
       "    </tr>\n",
       "    <tr>\n",
       "      <th>789361</th>\n",
       "      <td>Phòng cho thuê giá rẻ, Quận Gò Vấp gần chung c...</td>\n",
       "      <td>1.7 Triệu/tháng</td>\n",
       "      <td>12m²</td>\n",
       "      <td>Gò Vấp</td>\n",
       "      <td>Hồ Chí Minh</td>\n",
       "      <td>\\r\\n09/10/2018</td>\n",
       "    </tr>\n",
       "  </tbody>\n",
       "</table>\n",
       "</div>"
      ],
      "text/plain": [
       "                                                    Title             Price  \\\n",
       "Id                                                                            \n",
       "478324  Cho thuê phòng để ở tại 108/64A1 Trần Quang Di...  3.5 Triệu/tháng    \n",
       "728993  Phòng vừa xây xong thoáng mát gần các trường Đ...   3.3 Triệu/tháng   \n",
       "781296  Cần share lại gấp phòng trọ mới thuê tại đường...    3 Triệu/tháng    \n",
       "781448  Chính chủ cho thuê căn hộ dịch vụ gần sân bay ...    7 Triệu/tháng    \n",
       "789361  Phòng cho thuê giá rẻ, Quận Gò Vấp gần chung c...  1.7 Triệu/tháng    \n",
       "\n",
       "       Square  District         City             Date  \n",
       "Id                                                     \n",
       "478324   18m²    Quận 3  Hồ Chí Minh  \\r\\n20/06/2020   \n",
       "728993  25 m²    Quận 7  Hồ Chí Minh  \\r\\n17/10/2018   \n",
       "781296   15m²   Quận 10  Hồ Chí Minh  \\r\\n05/10/2018   \n",
       "781448   27m²  Tân Bình  Hồ Chí Minh  \\r\\n06/10/2018   \n",
       "789361   12m²    Gò Vấp  Hồ Chí Minh  \\r\\n09/10/2018   "
      ]
     },
     "execution_count": 3,
     "metadata": {},
     "output_type": "execute_result"
    }
   ],
   "source": [
    "df_info = df_info.set_index('Id').sort_index()\n",
    "df_info.head()"
   ]
  },
  {
   "cell_type": "code",
   "execution_count": 4,
   "metadata": {},
   "outputs": [
    {
     "data": {
      "text/plain": [
       "(1185, 6)"
      ]
     },
     "execution_count": 4,
     "metadata": {},
     "output_type": "execute_result"
    }
   ],
   "source": [
    "df_info.shape"
   ]
  },
  {
   "attachments": {},
   "cell_type": "markdown",
   "metadata": {},
   "source": [
    "Dataset có 1185 dòng và 6 cột\n",
    "\n",
    "Mỗi dòng cho biết thông tin của nhà trọ hoặc phòng trọ cho thuê. Có vẻ không có vấn đề các dòng có ý nghĩa khác nhau."
   ]
  },
  {
   "cell_type": "code",
   "execution_count": 5,
   "metadata": {},
   "outputs": [
    {
     "data": {
      "text/plain": [
       "0"
      ]
     },
     "execution_count": 5,
     "metadata": {},
     "output_type": "execute_result"
    }
   ],
   "source": [
    "df_info.duplicated().sum()"
   ]
  },
  {
   "attachments": {},
   "cell_type": "markdown",
   "metadata": {},
   "source": [
    "Mỗi cột có ý nghĩa gì?\n",
    "Ý nghĩa của mỗi cột là:\n",
    "\n",
    "ID là để phân biệt phòng trọ, nhà trọ.\n",
    "\n",
    "Title là tiêu đề của phòng trọ, nhà trọ.\n",
    "\n",
    "Price là giá cho thuê của phòng trọ, nhà trọ theo tháng, đơn vị là VNĐ.\n",
    "\n",
    "Square là diện tích của phòng trọ, nhà trọ, đơn vị là m2\n",
    "\n",
    "District là địa chỉ quận của phòng trọ, nhà trọ.\n",
    "\n",
    "City là địa chỉ thành phố của phòng trọ, nhà trọ.\n",
    "\n",
    "Date là ngày đăng tin cho thuê của phòng trọ, nhà trọ."
   ]
  },
  {
   "cell_type": "code",
   "execution_count": 6,
   "metadata": {},
   "outputs": [
    {
     "data": {
      "text/plain": [
       "Index(['Title', 'Price', 'Square', 'District', 'City', 'Date'], dtype='object')"
      ]
     },
     "execution_count": 6,
     "metadata": {},
     "output_type": "execute_result"
    }
   ],
   "source": [
    "df_info.columns"
   ]
  },
  {
   "attachments": {},
   "cell_type": "markdown",
   "metadata": {},
   "source": [
    "------------"
   ]
  },
  {
   "attachments": {},
   "cell_type": "markdown",
   "metadata": {},
   "source": [
    "KIỂM TRA KIỂU DỮ LIỆU"
   ]
  },
  {
   "cell_type": "code",
   "execution_count": 7,
   "metadata": {},
   "outputs": [
    {
     "data": {
      "text/plain": [
       "Title       object\n",
       "Price       object\n",
       "Square      object\n",
       "District    object\n",
       "City        object\n",
       "Date        object\n",
       "dtype: object"
      ]
     },
     "execution_count": 7,
     "metadata": {},
     "output_type": "execute_result"
    }
   ],
   "source": [
    "df_info.dtypes"
   ]
  },
  {
   "attachments": {},
   "cell_type": "markdown",
   "metadata": {},
   "source": [
    "Kết quả trên cho thấy tất cả các cột đều có kiểu dữ liệu là object. Gây khó khăn cho quá trình tính toán.\n",
    "\n",
    "Ta thấy rằng có 3 cột có thể chuyển sang dạng khác là Price (numeric), Square (numeric) và Date (datetime). Tiến hành chuyển thôi nàoo"
   ]
  },
  {
   "attachments": {},
   "cell_type": "markdown",
   "metadata": {},
   "source": [
    "-----"
   ]
  },
  {
   "cell_type": "code",
   "execution_count": 8,
   "metadata": {},
   "outputs": [
    {
     "data": {
      "text/plain": [
       "Id\n",
       "478324       18m²\n",
       "728993      25 m²\n",
       "781296       15m²\n",
       "781448       27m²\n",
       "789361       12m²\n",
       "            ...  \n",
       "2119311      16m²\n",
       "2122158      20m²\n",
       "2127186       6m²\n",
       "2127880      22m²\n",
       "2127970    52.5m²\n",
       "Name: Square, Length: 1185, dtype: object"
      ]
     },
     "execution_count": 8,
     "metadata": {},
     "output_type": "execute_result"
    }
   ],
   "source": [
    "df_info['Square']"
   ]
  },
  {
   "attachments": {},
   "cell_type": "markdown",
   "metadata": {},
   "source": [
    "Ta thấy các dữ liệu để có m² ở sau, ta loại bỏ và chuyển nó sang dạng float."
   ]
  },
  {
   "cell_type": "code",
   "execution_count": 9,
   "metadata": {},
   "outputs": [],
   "source": [
    "df_info['Square'] = df_info['Square'].str.replace(\"m²\",\"\").to_list()\n",
    "df_info['Square']= pd.to_numeric(df_info['Square'], errors='coerce')"
   ]
  },
  {
   "cell_type": "code",
   "execution_count": 10,
   "metadata": {},
   "outputs": [],
   "source": [
    "df_info.rename(columns={'Square': 'Square(m²)'}, inplace = True)"
   ]
  },
  {
   "cell_type": "code",
   "execution_count": 11,
   "metadata": {},
   "outputs": [
    {
     "data": {
      "text/html": [
       "<div>\n",
       "<style scoped>\n",
       "    .dataframe tbody tr th:only-of-type {\n",
       "        vertical-align: middle;\n",
       "    }\n",
       "\n",
       "    .dataframe tbody tr th {\n",
       "        vertical-align: top;\n",
       "    }\n",
       "\n",
       "    .dataframe thead th {\n",
       "        text-align: right;\n",
       "    }\n",
       "</style>\n",
       "<table border=\"1\" class=\"dataframe\">\n",
       "  <thead>\n",
       "    <tr style=\"text-align: right;\">\n",
       "      <th></th>\n",
       "      <th>Title</th>\n",
       "      <th>Price</th>\n",
       "      <th>Square(m²)</th>\n",
       "      <th>District</th>\n",
       "      <th>City</th>\n",
       "      <th>Date</th>\n",
       "    </tr>\n",
       "    <tr>\n",
       "      <th>Id</th>\n",
       "      <th></th>\n",
       "      <th></th>\n",
       "      <th></th>\n",
       "      <th></th>\n",
       "      <th></th>\n",
       "      <th></th>\n",
       "    </tr>\n",
       "  </thead>\n",
       "  <tbody>\n",
       "    <tr>\n",
       "      <th>478324</th>\n",
       "      <td>Cho thuê phòng để ở tại 108/64A1 Trần Quang Di...</td>\n",
       "      <td>3.5 Triệu/tháng</td>\n",
       "      <td>18.0</td>\n",
       "      <td>Quận 3</td>\n",
       "      <td>Hồ Chí Minh</td>\n",
       "      <td>\\r\\n20/06/2020</td>\n",
       "    </tr>\n",
       "    <tr>\n",
       "      <th>728993</th>\n",
       "      <td>Phòng vừa xây xong thoáng mát gần các trường Đ...</td>\n",
       "      <td>3.3 Triệu/tháng</td>\n",
       "      <td>25.0</td>\n",
       "      <td>Quận 7</td>\n",
       "      <td>Hồ Chí Minh</td>\n",
       "      <td>\\r\\n17/10/2018</td>\n",
       "    </tr>\n",
       "    <tr>\n",
       "      <th>781296</th>\n",
       "      <td>Cần share lại gấp phòng trọ mới thuê tại đường...</td>\n",
       "      <td>3 Triệu/tháng</td>\n",
       "      <td>15.0</td>\n",
       "      <td>Quận 10</td>\n",
       "      <td>Hồ Chí Minh</td>\n",
       "      <td>\\r\\n05/10/2018</td>\n",
       "    </tr>\n",
       "    <tr>\n",
       "      <th>781448</th>\n",
       "      <td>Chính chủ cho thuê căn hộ dịch vụ gần sân bay ...</td>\n",
       "      <td>7 Triệu/tháng</td>\n",
       "      <td>27.0</td>\n",
       "      <td>Tân Bình</td>\n",
       "      <td>Hồ Chí Minh</td>\n",
       "      <td>\\r\\n06/10/2018</td>\n",
       "    </tr>\n",
       "    <tr>\n",
       "      <th>789361</th>\n",
       "      <td>Phòng cho thuê giá rẻ, Quận Gò Vấp gần chung c...</td>\n",
       "      <td>1.7 Triệu/tháng</td>\n",
       "      <td>12.0</td>\n",
       "      <td>Gò Vấp</td>\n",
       "      <td>Hồ Chí Minh</td>\n",
       "      <td>\\r\\n09/10/2018</td>\n",
       "    </tr>\n",
       "    <tr>\n",
       "      <th>...</th>\n",
       "      <td>...</td>\n",
       "      <td>...</td>\n",
       "      <td>...</td>\n",
       "      <td>...</td>\n",
       "      <td>...</td>\n",
       "      <td>...</td>\n",
       "    </tr>\n",
       "    <tr>\n",
       "      <th>2119311</th>\n",
       "      <td>Cho thuê phòng ĐẸP 16m2 đường Thành Thái-Q10, ...</td>\n",
       "      <td>5 Triệu/tháng</td>\n",
       "      <td>16.0</td>\n",
       "      <td>Quận 10</td>\n",
       "      <td>Hồ Chí Minh</td>\n",
       "      <td>\\r\\n25/11/2022</td>\n",
       "    </tr>\n",
       "    <tr>\n",
       "      <th>2122158</th>\n",
       "      <td>Thuê phòng 2.5 triệu 20m2 căn bìa tầng trệt gầ...</td>\n",
       "      <td>2.5 Triệu/tháng</td>\n",
       "      <td>20.0</td>\n",
       "      <td>Quận 4</td>\n",
       "      <td>Hồ Chí Minh</td>\n",
       "      <td>\\r\\n29/11/2022</td>\n",
       "    </tr>\n",
       "    <tr>\n",
       "      <th>2127186</th>\n",
       "      <td>Cho thuê mặt bằng KD và phòng trọ số 36/66 Ngu...</td>\n",
       "      <td>2 Triệu/tháng</td>\n",
       "      <td>6.0</td>\n",
       "      <td>Bình Thạnh</td>\n",
       "      <td>Hồ Chí Minh</td>\n",
       "      <td>\\r\\n07/12/2022</td>\n",
       "    </tr>\n",
       "    <tr>\n",
       "      <th>2127880</th>\n",
       "      <td>Phòng nội thất cao cấp ưu tiên nữ, gần vòng xo...</td>\n",
       "      <td>2.9 Triệu/tháng</td>\n",
       "      <td>22.0</td>\n",
       "      <td>Tân Phú</td>\n",
       "      <td>Hồ Chí Minh</td>\n",
       "      <td>\\r\\n08/12/2022</td>\n",
       "    </tr>\n",
       "    <tr>\n",
       "      <th>2127970</th>\n",
       "      <td>Nhà Cho Thuê RỘNG RÃI - THOÁNG MÁT - AN NINH -...</td>\n",
       "      <td>3.5 Triệu/tháng</td>\n",
       "      <td>52.5</td>\n",
       "      <td>Quận 9</td>\n",
       "      <td>Hồ Chí Minh</td>\n",
       "      <td>\\r\\n08/12/2022</td>\n",
       "    </tr>\n",
       "  </tbody>\n",
       "</table>\n",
       "<p>1185 rows × 6 columns</p>\n",
       "</div>"
      ],
      "text/plain": [
       "                                                     Title             Price  \\\n",
       "Id                                                                             \n",
       "478324   Cho thuê phòng để ở tại 108/64A1 Trần Quang Di...  3.5 Triệu/tháng    \n",
       "728993   Phòng vừa xây xong thoáng mát gần các trường Đ...   3.3 Triệu/tháng   \n",
       "781296   Cần share lại gấp phòng trọ mới thuê tại đường...    3 Triệu/tháng    \n",
       "781448   Chính chủ cho thuê căn hộ dịch vụ gần sân bay ...    7 Triệu/tháng    \n",
       "789361   Phòng cho thuê giá rẻ, Quận Gò Vấp gần chung c...  1.7 Triệu/tháng    \n",
       "...                                                    ...               ...   \n",
       "2119311  Cho thuê phòng ĐẸP 16m2 đường Thành Thái-Q10, ...    5 Triệu/tháng    \n",
       "2122158  Thuê phòng 2.5 triệu 20m2 căn bìa tầng trệt gầ...  2.5 Triệu/tháng    \n",
       "2127186  Cho thuê mặt bằng KD và phòng trọ số 36/66 Ngu...    2 Triệu/tháng    \n",
       "2127880  Phòng nội thất cao cấp ưu tiên nữ, gần vòng xo...  2.9 Triệu/tháng    \n",
       "2127970  Nhà Cho Thuê RỘNG RÃI - THOÁNG MÁT - AN NINH -...  3.5 Triệu/tháng    \n",
       "\n",
       "         Square(m²)    District         City             Date  \n",
       "Id                                                             \n",
       "478324         18.0      Quận 3  Hồ Chí Minh  \\r\\n20/06/2020   \n",
       "728993         25.0      Quận 7  Hồ Chí Minh  \\r\\n17/10/2018   \n",
       "781296         15.0     Quận 10  Hồ Chí Minh  \\r\\n05/10/2018   \n",
       "781448         27.0    Tân Bình  Hồ Chí Minh  \\r\\n06/10/2018   \n",
       "789361         12.0      Gò Vấp  Hồ Chí Minh  \\r\\n09/10/2018   \n",
       "...             ...         ...          ...              ...  \n",
       "2119311        16.0     Quận 10  Hồ Chí Minh  \\r\\n25/11/2022   \n",
       "2122158        20.0      Quận 4  Hồ Chí Minh  \\r\\n29/11/2022   \n",
       "2127186         6.0  Bình Thạnh  Hồ Chí Minh  \\r\\n07/12/2022   \n",
       "2127880        22.0     Tân Phú  Hồ Chí Minh  \\r\\n08/12/2022   \n",
       "2127970        52.5      Quận 9  Hồ Chí Minh  \\r\\n08/12/2022   \n",
       "\n",
       "[1185 rows x 6 columns]"
      ]
     },
     "execution_count": 11,
     "metadata": {},
     "output_type": "execute_result"
    }
   ],
   "source": [
    "df_info"
   ]
  },
  {
   "attachments": {},
   "cell_type": "markdown",
   "metadata": {},
   "source": [
    "-------"
   ]
  },
  {
   "cell_type": "code",
   "execution_count": 12,
   "metadata": {},
   "outputs": [
    {
     "data": {
      "text/plain": [
       "Id\n",
       "478324     3.5 Triệu/tháng \n",
       "728993      3.3 Triệu/tháng\n",
       "781296       3 Triệu/tháng \n",
       "781448       7 Triệu/tháng \n",
       "789361     1.7 Triệu/tháng \n",
       "                 ...       \n",
       "2119311      5 Triệu/tháng \n",
       "2122158    2.5 Triệu/tháng \n",
       "2127186      2 Triệu/tháng \n",
       "2127880    2.9 Triệu/tháng \n",
       "2127970    3.5 Triệu/tháng \n",
       "Name: Price, Length: 1185, dtype: object"
      ]
     },
     "execution_count": 12,
     "metadata": {},
     "output_type": "execute_result"
    }
   ],
   "source": [
    "df_info['Price']"
   ]
  },
  {
   "attachments": {},
   "cell_type": "markdown",
   "metadata": {},
   "source": [
    "Ta thấy các dữ liệu đều có đuôi là Triệu/tháng. Còn đuôi nào nữa không nhỉ? Kiểm tra thử nhé."
   ]
  },
  {
   "cell_type": "code",
   "execution_count": 13,
   "metadata": {},
   "outputs": [
    {
     "data": {
      "text/plain": [
       "array(['3.5 Triệu/tháng ', '3.3 Triệu/tháng', '3 Triệu/tháng ',\n",
       "       '7 Triệu/tháng ', '1.7 Triệu/tháng ', '1.5 Triệu/tháng ',\n",
       "       '5 Triệu/tháng', 'Thương lượng', '6 Triệu/tháng',\n",
       "       '4.5 Trăm nghìn/tháng', '4 Triệu/tháng', '1.2 Triệu/tháng',\n",
       "       '5.5 Triệu/tháng', '4.5 Triệu/tháng ', '2.6 Triệu/tháng ',\n",
       "       '2.5 Triệu/tháng ', '3500 Triệu/tháng ', '4.7 Triệu/tháng',\n",
       "       '2.3 Triệu/tháng', '1.1 Triệu/tháng', '1 Triệu/tháng',\n",
       "       '3.7 Triệu/tháng', '3.5 Triệu/tháng', '2.6 Triệu/tháng',\n",
       "       '7.5 Triệu/tháng', '5.8 Triệu/tháng', '3 Triệu/tháng',\n",
       "       '5.9 Triệu/tháng', '2.8 Triệu/tháng', '1.3 Triệu/tháng',\n",
       "       '1.8 Triệu/tháng ', '4 Triệu/tháng ', '2.1 Triệu/tháng',\n",
       "       '2.5 Triệu/tháng', '1.5 Triệu/tháng', '1.9 Triệu/tháng',\n",
       "       '2.2 Triệu/tháng', '3.2 Triệu/tháng', '1.25 Triệu/tháng',\n",
       "       '6.8 Triệu/tháng', '2.7 Triệu/tháng ', '4.5 Triệu/tháng',\n",
       "       '6.5 Triệu/tháng', '2 Triệu/tháng ', '9 Trăm nghìn/tháng',\n",
       "       '2 Triệu/tháng', '2.25 Triệu/tháng', '3.4 Triệu/tháng',\n",
       "       '1.6 Triệu/tháng', '10 Triệu/tháng', '1.8 Triệu/tháng',\n",
       "       '35 Trăm nghìn/tháng', '4.9 Triệu/tháng', '1.7 Triệu/tháng',\n",
       "       '5.3 Triệu/tháng', '2.7 Triệu/tháng', '6.2 Triệu/tháng',\n",
       "       '4.2 Triệu/tháng', '6.1 Triệu/tháng', '4.8 Triệu/tháng',\n",
       "       '1.4 Triệu/tháng', '45 Trăm nghìn/tháng', '9 Triệu/tháng',\n",
       "       '7 Triệu/tháng', '6.6 Triệu/tháng', '8.5 Triệu/tháng',\n",
       "       '11 Triệu/tháng', '5.1 Triệu/tháng', '40 Trăm nghìn/tháng',\n",
       "       '2.8 Triệu/tháng ', '1.2 Triệu/tháng ', '0.6 Triệu/tháng ',\n",
       "       '1.6 Triệu/tháng ', '1.3 Triệu/tháng ', '6 Triệu/tháng ',\n",
       "       '0.45 Triệu/tháng ', '5 Triệu/tháng ', '3.2 Triệu/tháng ',\n",
       "       '3.7 Triệu/tháng ', '1 Triệu/tháng ', '1.9 Triệu/tháng ',\n",
       "       '3.6 Triệu/tháng ', '5.5 Triệu/tháng ', '2.1 Triệu/tháng ',\n",
       "       '0.8 Triệu/tháng ', '0.9 Triệu/tháng ', '2.9 Triệu/tháng ',\n",
       "       '1.4 Triệu/tháng ', '8 Triệu/tháng ', '1200000 Triệu/tháng ',\n",
       "       '6.5 Triệu/tháng ', '2.3 Triệu/tháng ', '2.95 Triệu/tháng ',\n",
       "       '10 Triệu/tháng ', '4.2 Triệu/tháng ', '0.7 Triệu/tháng ',\n",
       "       '28 Triệu/tháng ', '4.8 Triệu/tháng ', '3000000 Triệu/tháng ',\n",
       "       '2.2 Triệu/tháng ', '8.5 Triệu/tháng ', '2.4 Triệu/tháng ',\n",
       "       '0.85 Triệu/tháng ', '3.1 Triệu/tháng ', '3.8 Triệu/tháng ',\n",
       "       '1600000 Triệu/tháng ', '1.1 Triệu/tháng ', '1500000 Triệu/tháng ',\n",
       "       '4.3 Triệu/tháng ', '1.15 Triệu/tháng ', '9.5 Triệu/tháng ',\n",
       "       '12 Triệu/tháng ', '5.8 Triệu/tháng ', '24 Triệu/tháng ',\n",
       "       '0.002 Triệu/tháng ', '23 Triệu/tháng ', '1.02 Triệu/tháng ',\n",
       "       '25 Triệu/tháng ', '32 Triệu/tháng ', '40 Triệu/tháng ',\n",
       "       '33 Triệu/tháng ', '3.3 Triệu/tháng ', '350 Triệu/tháng ',\n",
       "       '5.9 Triệu/tháng ', '2.45 Triệu/tháng ', '6.3 Triệu/tháng ',\n",
       "       '3.99 Triệu/tháng ', '13 Triệu/tháng ', '50.005 Triệu/tháng ',\n",
       "       '30 Triệu/tháng ', '0.23 Triệu/tháng ', '0 Triệu/tháng ',\n",
       "       '3.4 Triệu/tháng ', '34 Triệu/tháng ', '4.6 Triệu/tháng ',\n",
       "       '5.2 Triệu/tháng ', '50 Triệu/tháng ', '305 Triệu/tháng ',\n",
       "       '1.85 Triệu/tháng ', '0.005 Triệu/tháng ', '5.3 Triệu/tháng ',\n",
       "       '4.1 Triệu/tháng ', '3.05 Triệu/tháng ', '1.004 Triệu/tháng ',\n",
       "       '1.65 Triệu/tháng ', '5.7 Triệu/tháng ', '0.5 Triệu/tháng ',\n",
       "       '3.9 Triệu/tháng ', '0.65 Triệu/tháng ', '7.5 Triệu/tháng ',\n",
       "       '6.8 Triệu/tháng ', '4.7 Triệu/tháng ', '7.2 Triệu/tháng ',\n",
       "       '60 Triệu/tháng ', '3.005 Triệu/tháng ', '9 Triệu/tháng ',\n",
       "       '11 Triệu/tháng ', '3.55 Triệu/tháng ', '4.9 Triệu/tháng ',\n",
       "       '1.35 Triệu/tháng ', '6.2 Triệu/tháng '], dtype=object)"
      ]
     },
     "execution_count": 13,
     "metadata": {},
     "output_type": "execute_result"
    }
   ],
   "source": [
    "df_info['Price'].unique()"
   ]
  },
  {
   "attachments": {},
   "cell_type": "markdown",
   "metadata": {},
   "source": [
    "Các kiểu dữ liệu có đuôi là Trăm nghìn/tháng, Triệu/tháng\n",
    "\n",
    "Và kiểu dữ liệu là Thương lượng\n",
    "\n",
    "Ta sẽ chuyển các dữ liệu về dạng float và tiêu chuẩn là Triệu/tháng.\n",
    "Thương lượng sẽ để là NaN"
   ]
  },
  {
   "cell_type": "code",
   "execution_count": 14,
   "metadata": {},
   "outputs": [],
   "source": [
    "def convert_price(price):\n",
    "   if 'Triệu/tháng' in price:\n",
    "      price = price.replace('Triệu/tháng', '')\n",
    "      return float(price)\n",
    "   if 'Thương lượng' in price:\n",
    "      return np.nan\n",
    "   if 'Trăm nghìn/tháng' in price:\n",
    "      price = price.replace('Trăm nghìn/tháng', '')\n",
    "      return float(price)/10\n",
    "   return np.nan"
   ]
  },
  {
   "cell_type": "code",
   "execution_count": 15,
   "metadata": {},
   "outputs": [],
   "source": [
    "df_price = df_info['Price'].to_list()"
   ]
  },
  {
   "cell_type": "code",
   "execution_count": 16,
   "metadata": {},
   "outputs": [],
   "source": [
    "for i in range(len(df_price)):\n",
    "   df_price[i] = convert_price(df_price[i])"
   ]
  },
  {
   "attachments": {},
   "cell_type": "markdown",
   "metadata": {},
   "source": [
    "df_price = df_info['Price'].to_list() # convert to array\n",
    "\n",
    "df_price = df_info['Price'].to_numpy() # convert to ndarray\n",
    "\n",
    "In NumPy, the ndarray (n-dimensional array) is an object that stores a collection of items, which are typically numbers. By default, the ndarray is created with the \"read-only\" property, which means that the data stored in the array cannot be modified. "
   ]
  },
  {
   "cell_type": "code",
   "execution_count": 17,
   "metadata": {},
   "outputs": [
    {
     "name": "stdout",
     "output_type": "stream",
     "text": [
      "[3.5, 3.3, 3.0, 7.0, 1.7, 1.5, 5.0, 5.0, 5.0, nan, 6.0, 0.45, 4.0, 5.0, 1.2, 5.5, 4.5, 2.6, 4.5, 2.5, 3500.0, 0.45, 4.7, 5.5, 0.45, 0.45, 0.45, 0.45, 2.3, 5.0, 1.1, 3.3, nan, 4.0, 4.0, 2.3, 1.0, 6.0, 0.45, 3.7, 3.5, 0.45, 0.45, 2.6, 7.5, 5.8, 3.0, 0.45, 2.6, 6.0, 3.5, 5.9, 5.0, nan, 2.8, 3.5, nan, 1.3, 5.0, 1.8, 4.0, 1.7, 2.8, 2.1, 2.5, 2.3, nan, 0.45, 5.5, 2.6, 0.45, 1.5, 1.9, 2.2, 3.2, 2.5, 1.25, 6.8, 2.7, 4.5, 4.5, 6.5, 4.5, 4.5, 4.5, 2.0, 4.0, 0.9, 2.0, 3.0, 3.5, 4.0, 2.25, 3.2, 3.4, 3.4, 5.0, 3.5, 3.5, 3.7, 2.8, 3.0, 1.1, 1.6, 1.2, 1.0, 6.5, 2.8, 4.0, 2.2, 4.0, 10.0, 4.0, nan, 5.0, 1.8, 4.0, 4.0, nan, 3.5, 4.0, 5.0, 5.0, 5.0, 5.0, 2.2, 1.8, 5.0, 4.9, 7.5, 3.2, 2.0, 5.8, 3.5, 0.45, 1.7, 0.45, 0.45, 0.45, 5.3, 5.0, 5.0, 2.7, 4.0, 6.0, 3.5, 5.0, 6.2, 0.45, 5.0, 4.2, 1.5, 4.2, 4.5, 4.5, 5.0, 3.0, 6.1, 1.5, nan, 4.8, 4.5, 1.4, 4.8, 5.3, 4.8, 3.0, 4.5, 3.0, 4.5, 4.0, 2.7, 9.0, 3.5, 3.5, 3.3, 4.5, 7.0, 6.6, 4.5, 0.45, 6.5, 5.3, 4.0, 1.0, 4.0, 5.5, 6.0, 4.0, 4.5, 3.5, 8.5, 11.0, 7.0, 4.5, 0.45, 4.0, 2.0, 0.45, 5.5, 5.1, 3.5, 4.0, 0.45, 4.5, 0.45, 3.7, 4.5, 5.5, 6.5, 2.7, 2.8, 2.7, 6.0, 5.5, 3.0, 4.0, 4.0, 1.2, 2.5, 4.0, 4.5, 4.5, 0.6, 1.6, 2.8, 1.3, 3.0, 1.6, 3.5, 4.0, 2.6, 6.0, 4.0, 4.0, 0.45, 3.5, 1.7, 5.0, 3.0, 2.5, 1.5, 4.0, 2.0, 3.5, 2.5, 3.2, 4.0, 3.2, 3.0, 2.6, 3.5, 2.5, 3.7, 1.0, 1.5, 1.9, 2.5, 5.0, 2.0, 1.0, 3.2, 4.5, 1.6, 3.5, 3.0, 4.5, 2.0, 3.6, 5.5, 3.0, 1.7, 4.0, 6.0, 3.0, 3.0, 3.2, 2.0, 3.5, 1.9, 2.1, 2.5, 4.0, 0.8, 1.0, 0.9, 3.0, 1.6, 2.9, 1.4, 2.0, 2.5, 1.5, 3.0, 4.5, 8.0, 1.0, 1.6, 2.5, 3.0, 1.5, 3.2, 1200000.0, 2.0, 3.2, 4.0, 4.0, 7.0, 6.0, 0.8, 6.5, 2.0, 1.8, 3.5, 4.5, 2.3, 3.5, 4.0, 3.0, 3.5, 2.3, 6.0, 0.9, 3.6, 1.5, 3.0, 2.95, 1.8, 1.3, 1.0, 5.0, 1.8, 3.6, 10.0, 2.5, 4.0, 2.0, 3.5, 3.0, 6.5, 2.5, 4.0, 4.2, 2.5, 1.5, 1.8, 2.3, 4.0, 3.5, 0.7, 28.0, 3.0, 2.8, 2.0, 5.5, 4.8, 3.0, 3000000.0, 7.0, 2.2, 2.5, 2.5, 3.0, 2.5, 3.5, 3.5, 4.5, 4.5, 4.5, 2.5, 3.5, 2.5, 1.2, 1.0, 2.1, 1.0, 4.5, 8.5, 2.5, 2.2, 2.5, 3.0, 7.0, 2.4, 2.0, 2.2, 2.6, 3.0, 3.7, 2.2, 3.0, 2.5, 6.0, 0.85, 2.5, 4.0, 5.0, 8.5, 3.0, 5.5, 2.5, 2.8, 1.8, 2.5, 5.5, 5.0, 3.0, 3.0, 2.5, 5.0, 3.0, 0.85, 5.5, 4.0, 5.0, 1.0, 2.0, 1.8, 3.1, 2.8, 5.0, 3.5, 2.0, 6.0, 3.0, 2.8, 4.0, 3.8, 3.5, 2.5, 1.3, 3.0, 5.0, 6.0, 2.0, 1600000.0, 2.5, 1.1, 4.0, 1500000.0, 1.3, 3.0, 6.5, 10.0, 2.2, 4.5, 4.0, 2.8, 5.0, 3.5, 1.6, 3.7, 1.2, 1.5, 4.3, 1.15, 7.0, 9.5, 4.5, 3.5, 9.5, 12.0, 1.3, 8.5, 8.5, 8.0, 3.0, 1.2, 2.2, 2.5, 3.0, 3.0, 5.8, 5.8, 1.6, 2.0, 0.45, 4.0, 1.2, 8.0, 24.0, 0.002, 23.0, 1.02, 25.0, 32.0, 28.0, 25.0, 4.0, 40.0, 25.0, 33.0, 3.3, 1.5, 1.5, 3.0, 2.6, 2.0, 25.0, 2.5, 2.3, 4.5, 1.5, 4.0, 5.0, 2.0, 1.0, 2.5, 2.5, 1.0, 2.5, 2.9, 0.6, 2.3, 1.0, 4.0, 3.0, 1.0, 1.5, 3.1, 3.8, 3.0, 1.7, 5.5, 5.0, 2.95, 2.5, 350.0, 350.0, 2.0, 4.0, 3.0, 3.0, 2.6, 4.0, 5.9, 1.0, 2.45, 1.3, 2.5, 2.5, 0.9, 2.5, 2.6, 2.5, 2.5, 3.0, 0.6, 1.7, 1.6, 1.3, 3.2, 4.3, 3.2, 1.6, 3.0, 3.5, 2.5, 8.0, 8.5, 1.8, 2.2, 1.0, 4.0, 7.0, 2.7, 5.0, 2.0, 5.0, 2.0, 3.0, 5.5, 2.5, 2.5, 4.5, 5.0, 2.2, 6.3, 2.0, 4.0, 2.2, 3.99, 2.5, 1.7, 0.8, 2.5, 0.7, 5.8, 3.5, 5.0, 3.0, 1.2, 4.0, 8.0, 2.2, 3.0, 3.0, 3.0, 2.4, 1.2, 3.0, 4.5, 2.3, 4.2, 2.2, 2.5, 4.0, 2.5, 2.6, 2.2, 2.4, 2.4, 4.0, 13.0, 3.5, 4.5, 2.5, 2.8, 1.8, 3.0, 2.3, 2.0, 5.5, 2.0, 2.8, 1.6, 2.3, 4.0, 2.2, 5.5, 1.7, 2.5, 6.5, 3.0, 5.0, 1.6, 50.005, 2.5, 1.5, 3.5, 3.5, 6.5, 5.0, 2.5, 30.0, 2.8, 2.0, 1.8, 5.5, 1.2, 3.0, 5.5, 2.0, 0.23, 2.0, 2.0, 2.6, 3.5, 2.0, 5.0, 1.5, 1.5, 1.3, 3.0, 1.4, 1.6, 2.0, 2.0, 2.8, 3.8, 4.5, 3.5, 2.5, 1.6, 5.0, 3.8, 4.5, 0.0, 4.0, 1.6, 1.5, 3.5, 2.0, 2.5, 4.0, 1.8, 1.2, 3.0, 2.5, 4.5, 5.0, 2.9, 1.8, 1.6, 2.7, 1.6, 3.5, 3.4, 2.0, 1.6, 34.0, 2.5, 2.8, 3.0, 3.3, 1.7, 3.3, 3.5, 4.0, 4.6, 2.5, 3.0, 2.4, 1.6, 2.4, 3.0, 3.0, 3.0, 4.0, 2.0, 3.4, 2.7, 1.2, 3.0, 1.2, 2.4, 4.0, 2.0, 2.0, 2.6, 1.7, 2.4, 2.4, 5.0, 2.6, 3.0, 2.4, 4.5, 4.0, 0.9, 2.5, 3.3, 2.1, 5.2, 1.7, 2.5, 50.0, 1.6, 4.0, 50.0, 305.0, 6.0, 3.3, 1.85, 4.0, 2.4, 3.5, 2.8, 4.0, 3.2, 3.0, 2.0, 2.5, 0.002, 0.005, 3.0, 5.0, 1.0, 5.0, 1.2, 5.5, 4.0, 2.3, 3.5, 3.5, 1.7, 2.3, 1.0, 3.0, 4.3, 5.0, 3.0, 2.0, 8.0, 1.0, 6.0, 1.0, 1.0, 7.0, 2.0, 1.0, 5.0, 3.6, 1.0, 1.5, 1.6, 5.3, 1.0, 2.2, 1.6, 2.0, 2.0, 7.0, 4.0, 3.5, 2.0, 3.3, 3.0, 3.1, 3.0, 1.5, 4.5, 4.1, 4.1, 3.6, 1.3, 2.5, 1.5, 3.0, 2.3, 2.9, 3.0, 3.05, 4.5, 4.0, 2.7, 1.3, 2.5, 1.5, 4.0, 2.0, 2.0, 2.0, 1.2, 3.0, 2.3, 2.5, 2.7, 3.0, 2.5, 3.0, 3.0, 3.0, 2.5, 2.0, 3.0, 4.5, 1.5, 2.0, 2.5, 3.0, 3.5, 1.5, 1.004, 2.2, 3.0, 2.2, 2.0, 2.0, 3.5, 3.6, 2.2, 2.2, 2.2, 2.6, 1.5, 3.5, 3.4, 4.0, 3.0, 1.0, 2.1, 2.0, 2.45, 3.2, 4.0, 2.8, 2.0, 1.8, 4.0, 4.0, 1.4, 4.5, 1.5, 2.3, 3.2, 2.3, 2.3, 3.5, 3.5, 1.0, 1.8, 1.2, 4.2, 3.4, 3.5, 2.5, 3.0, 2.0, 2.5, 3.8, 1.65, 2.0, 2.3, 1.5, 5.5, 3.2, 3.3, 5.5, 3.5, 4.0, 5.5, 2.5, 1.8, 2.7, 3.0, 2.4, 3.2, 3.3, 3.3, 0.6, 1.6, 3.0, 5.7, 0.5, 2.0, 3.9, 2.0, 0.65, 1.5, 3.0, 0.8, 1.2, 1.5, 1.8, 2.0, 2.0, 3.5, 1.0, 4.0, 5.0, 4.0, 4.0, 4.0, 2.2, 2.0, 3.5, 1.5, 1.0, 3.0, 0.7, 4.0, 0.7, 0.7, 2.7, 1.3, 4.0, 1.5, 4.5, 6.0, 1.9, 4.0, 7.5, 2.5, 3.6, 3.6, 1.9, 4.5, 1.9, 4.8, 8.0, 3.3, 2.5, 5.5, 4.8, 2.5, 6.8, 4.2, 4.0, 1.6, 5.5, 2.8, 6.0, 2.5, 2.0, 1.9, 7.5, 4.7, 2.0, 4.8, 1.5, 4.5, 4.0, 3.2, 4.8, 2.5, 3.7, 5.0, 2.5, 4.0, 4.8, 7.0, 3.0, 4.5, 3.5, 4.5, 4.0, 4.0, 3.5, 4.0, 4.0, 2.8, 2.0, 5.0, 1.6, 3.5, 7.2, 60.0, 2.5, 1.4, 2.8, 2.2, 3.0, 1.4, 2.7, 2.5, 3.5, 7.5, 6.0, 2.0, 1.5, 3.5, 1.4, 3.0, 3.0, 3.0, 3.0, 1.6, 1.6, 3.3, 1.2, 2.0, 2.8, 8.0, 2.0, 2.2, 1.6, 3.5, 2.5, 1.8, 2.0, 1.6, 1.5, 3.0, 5.0, 2.0, 1.7, 1.7, 2.0, 3.005, 1.3, 4.8, 2.4, 2.0, 6.0, 2.9, 3.5, 3.0, 2.0, 2.0, 2.7, 4.5, 3.9, 5.0, 2.0, 2.0, 1.2, 2.1, 5.5, 2.7, 2.5, 6.3, 1.6, 1.7, 5.5, 7.5, 1.5, 5.5, 4.8, 8.5, 3.2, 2.8, 4.0, 3.2, 6.5, 2.0, 10.0, 4.7, 2.5, 7.5, 3.2, 1.3, 9.0, 5.5, 3.2, 2.9, 1.2, 2.5, 4.0, 3.2, 11.0, 5.5, 3.4, 2.9, 2.5, 3.8, 2.3, 2.5, 3.5, 1.4, 1.0, 1.0, 3.5, 3.5, 2.5, 3.8, 1.7, 4.0, 3.55, 3.7, 2.0, 4.0, 2.0, 3.0, 1.8, 1.8, 1.8, 3.0, 3.0, 2.0, 4.0, 5.0, 1.8, 2.3, 1.8, 1.8, 1.8, 2.5, 5.5, 4.0, 3.5, 3.2, 6.0, 4.9, 4.5, 2.0, 3.5, 1.5, 1.6, 4.0, 4.0, 0.7, 5.3, 4.5, 5.8, 8.0, 4.0, 3.7, 1.35, 6.2, 1.2, 6.5, 6.0, 4.5, 3.1, 3.6, 4.0, 2.8, 5.5, 2.8, 5.0, 2.5, 2.0, 2.9, 3.5]\n"
     ]
    }
   ],
   "source": [
    "print(df_price)"
   ]
  },
  {
   "attachments": {},
   "cell_type": "markdown",
   "metadata": {},
   "source": [
    "Có thể thấy một số outlier ở phía trên"
   ]
  },
  {
   "attachments": {},
   "cell_type": "markdown",
   "metadata": {},
   "source": [
    "------"
   ]
  },
  {
   "cell_type": "code",
   "execution_count": 18,
   "metadata": {},
   "outputs": [],
   "source": [
    "def convert_price(price,square):\n",
    "    if 'Triệu/tháng' in price:\n",
    "        price = price.replace('Triệu/tháng','')\n",
    "        return float(price)\n",
    "    if 'Trăm nghìn/tháng' in price:\n",
    "        price = price.replace('Trăm nghìn/tháng','')\n",
    "        return float(price)/10\n",
    "    if 'Triệu/m2/tháng' in price:\n",
    "        if pd.isna(square):\n",
    "            return np.nan\n",
    "        price = price.replace('Triệu/m2/tháng','')\n",
    "        return float(price)*square\n",
    "    if 'Trăm nghìn/m2/tháng' in price:\n",
    "        if pd.isna(square):\n",
    "            return np.nan\n",
    "        price = price.replace('Trăm nghìn/m2/tháng','')\n",
    "        price = float(price)/10\n",
    "        return price*square\n",
    "    if 'Nghìn/m2/tháng' in price:\n",
    "        if pd.isna(square):\n",
    "            return np.nan\n",
    "        price = price.replace('Nghìn/m2/tháng','')\n",
    "        price = float(price)/1000\n",
    "        return price*square\n",
    "    return np.nan\n",
    "\n",
    "\n",
    "df_price_square = df_info[['Price','Square(m²)']]"
   ]
  },
  {
   "cell_type": "code",
   "execution_count": 19,
   "metadata": {},
   "outputs": [
    {
     "name": "stdout",
     "output_type": "stream",
     "text": [
      "Id\n",
      "478324     3.5 Triệu/tháng \n",
      "728993      3.3 Triệu/tháng\n",
      "781296       3 Triệu/tháng \n",
      "781448       7 Triệu/tháng \n",
      "789361     1.7 Triệu/tháng \n",
      "                 ...       \n",
      "2119311      5 Triệu/tháng \n",
      "2122158    2.5 Triệu/tháng \n",
      "2127186      2 Triệu/tháng \n",
      "2127880    2.9 Triệu/tháng \n",
      "2127970    3.5 Triệu/tháng \n",
      "Name: Price, Length: 1185, dtype: object\n"
     ]
    }
   ],
   "source": [
    "print(df_price_square['Price'])"
   ]
  },
  {
   "cell_type": "code",
   "execution_count": 20,
   "metadata": {},
   "outputs": [],
   "source": [
    "# for i in range(len(df_price_square)):\n",
    "for i in df_price_square.index:\n",
    "   df_price_square.at[i, 'Price'] = convert_price(df_price_square.loc[i]['Price'],df_price_square.loc[i]['Square(m²)'])"
   ]
  },
  {
   "cell_type": "code",
   "execution_count": 21,
   "metadata": {},
   "outputs": [
    {
     "data": {
      "text/plain": [
       "pandas.core.series.Series"
      ]
     },
     "execution_count": 21,
     "metadata": {},
     "output_type": "execute_result"
    }
   ],
   "source": [
    "type(pd.to_numeric(df_price_square['Price']))"
   ]
  },
  {
   "cell_type": "code",
   "execution_count": 22,
   "metadata": {},
   "outputs": [],
   "source": [
    "df_info['Price']=df_price_square['Price'].to_list()"
   ]
  },
  {
   "cell_type": "code",
   "execution_count": 23,
   "metadata": {},
   "outputs": [],
   "source": [
    "df_info.rename(columns={'Price':'Price(Triệu/tháng)'}, inplace=True)"
   ]
  },
  {
   "cell_type": "code",
   "execution_count": 24,
   "metadata": {},
   "outputs": [
    {
     "data": {
      "text/html": [
       "<div>\n",
       "<style scoped>\n",
       "    .dataframe tbody tr th:only-of-type {\n",
       "        vertical-align: middle;\n",
       "    }\n",
       "\n",
       "    .dataframe tbody tr th {\n",
       "        vertical-align: top;\n",
       "    }\n",
       "\n",
       "    .dataframe thead th {\n",
       "        text-align: right;\n",
       "    }\n",
       "</style>\n",
       "<table border=\"1\" class=\"dataframe\">\n",
       "  <thead>\n",
       "    <tr style=\"text-align: right;\">\n",
       "      <th></th>\n",
       "      <th>Title</th>\n",
       "      <th>Price(Triệu/tháng)</th>\n",
       "      <th>Square(m²)</th>\n",
       "      <th>District</th>\n",
       "      <th>City</th>\n",
       "      <th>Date</th>\n",
       "    </tr>\n",
       "    <tr>\n",
       "      <th>Id</th>\n",
       "      <th></th>\n",
       "      <th></th>\n",
       "      <th></th>\n",
       "      <th></th>\n",
       "      <th></th>\n",
       "      <th></th>\n",
       "    </tr>\n",
       "  </thead>\n",
       "  <tbody>\n",
       "    <tr>\n",
       "      <th>478324</th>\n",
       "      <td>Cho thuê phòng để ở tại 108/64A1 Trần Quang Di...</td>\n",
       "      <td>3.5</td>\n",
       "      <td>18.0</td>\n",
       "      <td>Quận 3</td>\n",
       "      <td>Hồ Chí Minh</td>\n",
       "      <td>\\r\\n20/06/2020</td>\n",
       "    </tr>\n",
       "    <tr>\n",
       "      <th>728993</th>\n",
       "      <td>Phòng vừa xây xong thoáng mát gần các trường Đ...</td>\n",
       "      <td>3.3</td>\n",
       "      <td>25.0</td>\n",
       "      <td>Quận 7</td>\n",
       "      <td>Hồ Chí Minh</td>\n",
       "      <td>\\r\\n17/10/2018</td>\n",
       "    </tr>\n",
       "    <tr>\n",
       "      <th>781296</th>\n",
       "      <td>Cần share lại gấp phòng trọ mới thuê tại đường...</td>\n",
       "      <td>3.0</td>\n",
       "      <td>15.0</td>\n",
       "      <td>Quận 10</td>\n",
       "      <td>Hồ Chí Minh</td>\n",
       "      <td>\\r\\n05/10/2018</td>\n",
       "    </tr>\n",
       "    <tr>\n",
       "      <th>781448</th>\n",
       "      <td>Chính chủ cho thuê căn hộ dịch vụ gần sân bay ...</td>\n",
       "      <td>7.0</td>\n",
       "      <td>27.0</td>\n",
       "      <td>Tân Bình</td>\n",
       "      <td>Hồ Chí Minh</td>\n",
       "      <td>\\r\\n06/10/2018</td>\n",
       "    </tr>\n",
       "    <tr>\n",
       "      <th>789361</th>\n",
       "      <td>Phòng cho thuê giá rẻ, Quận Gò Vấp gần chung c...</td>\n",
       "      <td>1.7</td>\n",
       "      <td>12.0</td>\n",
       "      <td>Gò Vấp</td>\n",
       "      <td>Hồ Chí Minh</td>\n",
       "      <td>\\r\\n09/10/2018</td>\n",
       "    </tr>\n",
       "    <tr>\n",
       "      <th>...</th>\n",
       "      <td>...</td>\n",
       "      <td>...</td>\n",
       "      <td>...</td>\n",
       "      <td>...</td>\n",
       "      <td>...</td>\n",
       "      <td>...</td>\n",
       "    </tr>\n",
       "    <tr>\n",
       "      <th>2119311</th>\n",
       "      <td>Cho thuê phòng ĐẸP 16m2 đường Thành Thái-Q10, ...</td>\n",
       "      <td>5.0</td>\n",
       "      <td>16.0</td>\n",
       "      <td>Quận 10</td>\n",
       "      <td>Hồ Chí Minh</td>\n",
       "      <td>\\r\\n25/11/2022</td>\n",
       "    </tr>\n",
       "    <tr>\n",
       "      <th>2122158</th>\n",
       "      <td>Thuê phòng 2.5 triệu 20m2 căn bìa tầng trệt gầ...</td>\n",
       "      <td>2.5</td>\n",
       "      <td>20.0</td>\n",
       "      <td>Quận 4</td>\n",
       "      <td>Hồ Chí Minh</td>\n",
       "      <td>\\r\\n29/11/2022</td>\n",
       "    </tr>\n",
       "    <tr>\n",
       "      <th>2127186</th>\n",
       "      <td>Cho thuê mặt bằng KD và phòng trọ số 36/66 Ngu...</td>\n",
       "      <td>2.0</td>\n",
       "      <td>6.0</td>\n",
       "      <td>Bình Thạnh</td>\n",
       "      <td>Hồ Chí Minh</td>\n",
       "      <td>\\r\\n07/12/2022</td>\n",
       "    </tr>\n",
       "    <tr>\n",
       "      <th>2127880</th>\n",
       "      <td>Phòng nội thất cao cấp ưu tiên nữ, gần vòng xo...</td>\n",
       "      <td>2.9</td>\n",
       "      <td>22.0</td>\n",
       "      <td>Tân Phú</td>\n",
       "      <td>Hồ Chí Minh</td>\n",
       "      <td>\\r\\n08/12/2022</td>\n",
       "    </tr>\n",
       "    <tr>\n",
       "      <th>2127970</th>\n",
       "      <td>Nhà Cho Thuê RỘNG RÃI - THOÁNG MÁT - AN NINH -...</td>\n",
       "      <td>3.5</td>\n",
       "      <td>52.5</td>\n",
       "      <td>Quận 9</td>\n",
       "      <td>Hồ Chí Minh</td>\n",
       "      <td>\\r\\n08/12/2022</td>\n",
       "    </tr>\n",
       "  </tbody>\n",
       "</table>\n",
       "<p>1185 rows × 6 columns</p>\n",
       "</div>"
      ],
      "text/plain": [
       "                                                     Title  \\\n",
       "Id                                                           \n",
       "478324   Cho thuê phòng để ở tại 108/64A1 Trần Quang Di...   \n",
       "728993   Phòng vừa xây xong thoáng mát gần các trường Đ...   \n",
       "781296   Cần share lại gấp phòng trọ mới thuê tại đường...   \n",
       "781448   Chính chủ cho thuê căn hộ dịch vụ gần sân bay ...   \n",
       "789361   Phòng cho thuê giá rẻ, Quận Gò Vấp gần chung c...   \n",
       "...                                                    ...   \n",
       "2119311  Cho thuê phòng ĐẸP 16m2 đường Thành Thái-Q10, ...   \n",
       "2122158  Thuê phòng 2.5 triệu 20m2 căn bìa tầng trệt gầ...   \n",
       "2127186  Cho thuê mặt bằng KD và phòng trọ số 36/66 Ngu...   \n",
       "2127880  Phòng nội thất cao cấp ưu tiên nữ, gần vòng xo...   \n",
       "2127970  Nhà Cho Thuê RỘNG RÃI - THOÁNG MÁT - AN NINH -...   \n",
       "\n",
       "         Price(Triệu/tháng)  Square(m²)    District         City  \\\n",
       "Id                                                                 \n",
       "478324                  3.5        18.0      Quận 3  Hồ Chí Minh   \n",
       "728993                  3.3        25.0      Quận 7  Hồ Chí Minh   \n",
       "781296                  3.0        15.0     Quận 10  Hồ Chí Minh   \n",
       "781448                  7.0        27.0    Tân Bình  Hồ Chí Minh   \n",
       "789361                  1.7        12.0      Gò Vấp  Hồ Chí Minh   \n",
       "...                     ...         ...         ...          ...   \n",
       "2119311                 5.0        16.0     Quận 10  Hồ Chí Minh   \n",
       "2122158                 2.5        20.0      Quận 4  Hồ Chí Minh   \n",
       "2127186                 2.0         6.0  Bình Thạnh  Hồ Chí Minh   \n",
       "2127880                 2.9        22.0     Tân Phú  Hồ Chí Minh   \n",
       "2127970                 3.5        52.5      Quận 9  Hồ Chí Minh   \n",
       "\n",
       "                    Date  \n",
       "Id                        \n",
       "478324   \\r\\n20/06/2020   \n",
       "728993   \\r\\n17/10/2018   \n",
       "781296   \\r\\n05/10/2018   \n",
       "781448   \\r\\n06/10/2018   \n",
       "789361   \\r\\n09/10/2018   \n",
       "...                  ...  \n",
       "2119311  \\r\\n25/11/2022   \n",
       "2122158  \\r\\n29/11/2022   \n",
       "2127186  \\r\\n07/12/2022   \n",
       "2127880  \\r\\n08/12/2022   \n",
       "2127970  \\r\\n08/12/2022   \n",
       "\n",
       "[1185 rows x 6 columns]"
      ]
     },
     "execution_count": 24,
     "metadata": {},
     "output_type": "execute_result"
    }
   ],
   "source": [
    "df_info"
   ]
  },
  {
   "cell_type": "markdown",
   "metadata": {},
   "source": [
    "df_info.rename()"
   ]
  },
  {
   "attachments": {},
   "cell_type": "markdown",
   "metadata": {},
   "source": [
    "----------"
   ]
  },
  {
   "cell_type": "code",
   "execution_count": 25,
   "metadata": {},
   "outputs": [
    {
     "data": {
      "text/plain": [
       "Id\n",
       "478324     \\r\\n20/06/2020 \n",
       "728993     \\r\\n17/10/2018 \n",
       "781296     \\r\\n05/10/2018 \n",
       "781448     \\r\\n06/10/2018 \n",
       "789361     \\r\\n09/10/2018 \n",
       "                ...       \n",
       "2119311    \\r\\n25/11/2022 \n",
       "2122158    \\r\\n29/11/2022 \n",
       "2127186    \\r\\n07/12/2022 \n",
       "2127880    \\r\\n08/12/2022 \n",
       "2127970    \\r\\n08/12/2022 \n",
       "Name: Date, Length: 1185, dtype: object"
      ]
     },
     "execution_count": 25,
     "metadata": {},
     "output_type": "execute_result"
    }
   ],
   "source": [
    "df_info['Date']"
   ]
  },
  {
   "attachments": {},
   "cell_type": "markdown",
   "metadata": {},
   "source": [
    "Ta thấy dữ liệu dư ký tự '\\n' và '\\r'. Xóa bỏ chúng và đưa về dạng dữ liệu datetime."
   ]
  },
  {
   "cell_type": "code",
   "execution_count": 26,
   "metadata": {},
   "outputs": [],
   "source": [
    "df_info['Date']=df_info['Date'].str.replace('\\r\\n','')\n",
    "df_info['Date']=df_info['Date'].str.replace(' ','')\n",
    "df_info['Date']=pd.to_datetime(df_info['Date'],format = \"%d/%m/%Y\",errors = 'raise')"
   ]
  },
  {
   "cell_type": "code",
   "execution_count": 28,
   "metadata": {},
   "outputs": [
    {
     "name": "stdout",
     "output_type": "stream",
     "text": [
      "2020-06-20 00:00:00\n"
     ]
    }
   ],
   "source": [
    "print(df_info.loc[478324, 'Date'])"
   ]
  }
 ],
 "metadata": {
  "kernelspec": {
   "display_name": "base",
   "language": "python",
   "name": "python3"
  },
  "language_info": {
   "codemirror_mode": {
    "name": "ipython",
    "version": 3
   },
   "file_extension": ".py",
   "mimetype": "text/x-python",
   "name": "python",
   "nbconvert_exporter": "python",
   "pygments_lexer": "ipython3",
   "version": "3.9.13"
  },
  "orig_nbformat": 4,
  "vscode": {
   "interpreter": {
    "hash": "5c043fe8d917de58502c0ff917ef6a8bc6988f96fc7225ef9721be17873a29ea"
   }
  }
 },
 "nbformat": 4,
 "nbformat_minor": 2
}
