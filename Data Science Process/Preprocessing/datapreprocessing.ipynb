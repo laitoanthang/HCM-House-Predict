{
 "cells": [
  {
   "attachments": {},
   "cell_type": "markdown",
   "metadata": {},
   "source": [
    "Các Bước Thực Hiện Chính:\n",
    "* Kiểm Tra Dữ Liệu (NaN, Kiểu Dữ Liệu đã hợp lý chưa, xử lý Outliers)\n",
    "* Khám Phá Dữ Liệu\n",
    "\t* Phân Bố Dữ Liệu (Vẽ Chart)"
   ]
  },
  {
   "attachments": {},
   "cell_type": "markdown",
   "metadata": {},
   "source": [
    "### Import necessary libraries"
   ]
  },
  {
   "cell_type": "code",
   "execution_count": 110,
   "metadata": {},
   "outputs": [],
   "source": [
    "import matplotlib.pyplot as plt\n",
    "import seaborn as sns\n",
    "import pandas as pd\n",
    "import numpy as np\n",
    "from datetime import date\n",
    "from datetime import datetime"
   ]
  },
  {
   "attachments": {},
   "cell_type": "markdown",
   "metadata": {},
   "source": [
    "2. DATA EXPLORATION (KHÁM PHÁ DỮ LIỆU - ĐAN XEN TIỀN XỬ LÝ DỮ LIỆU)\n",
    "\n",
    "Get data in file \"inf.csv\" and save it into dataframe df_info"
   ]
  },
  {
   "cell_type": "code",
   "execution_count": 60,
   "metadata": {},
   "outputs": [
    {
     "data": {
      "text/html": [
       "<div>\n",
       "<style scoped>\n",
       "    .dataframe tbody tr th:only-of-type {\n",
       "        vertical-align: middle;\n",
       "    }\n",
       "\n",
       "    .dataframe tbody tr th {\n",
       "        vertical-align: top;\n",
       "    }\n",
       "\n",
       "    .dataframe thead th {\n",
       "        text-align: right;\n",
       "    }\n",
       "</style>\n",
       "<table border=\"1\" class=\"dataframe\">\n",
       "  <thead>\n",
       "    <tr style=\"text-align: right;\">\n",
       "      <th></th>\n",
       "      <th>Id</th>\n",
       "      <th>Title</th>\n",
       "      <th>Price</th>\n",
       "      <th>Square</th>\n",
       "      <th>District</th>\n",
       "      <th>City</th>\n",
       "      <th>Date</th>\n",
       "    </tr>\n",
       "  </thead>\n",
       "  <tbody>\n",
       "    <tr>\n",
       "      <th>0</th>\n",
       "      <td>2127880</td>\n",
       "      <td>Phòng nội thất cao cấp ưu tiên nữ, gần vòng xo...</td>\n",
       "      <td>2.9 Triệu/tháng</td>\n",
       "      <td>22m²</td>\n",
       "      <td>Tân Phú</td>\n",
       "      <td>Hồ Chí Minh</td>\n",
       "      <td>\\r\\n08/12/2022</td>\n",
       "    </tr>\n",
       "    <tr>\n",
       "      <th>1</th>\n",
       "      <td>2127970</td>\n",
       "      <td>Nhà Cho Thuê RỘNG RÃI - THOÁNG MÁT - AN NINH -...</td>\n",
       "      <td>3.5 Triệu/tháng</td>\n",
       "      <td>52.5m²</td>\n",
       "      <td>Quận 9</td>\n",
       "      <td>Hồ Chí Minh</td>\n",
       "      <td>\\r\\n08/12/2022</td>\n",
       "    </tr>\n",
       "    <tr>\n",
       "      <th>2</th>\n",
       "      <td>2127186</td>\n",
       "      <td>Cho thuê mặt bằng KD và phòng trọ số 36/66 Ngu...</td>\n",
       "      <td>2 Triệu/tháng</td>\n",
       "      <td>6m²</td>\n",
       "      <td>Bình Thạnh</td>\n",
       "      <td>Hồ Chí Minh</td>\n",
       "      <td>\\r\\n07/12/2022</td>\n",
       "    </tr>\n",
       "    <tr>\n",
       "      <th>3</th>\n",
       "      <td>2122158</td>\n",
       "      <td>Thuê phòng 2.5 triệu 20m2 căn bìa tầng trệt gầ...</td>\n",
       "      <td>2.5 Triệu/tháng</td>\n",
       "      <td>20m²</td>\n",
       "      <td>Quận 4</td>\n",
       "      <td>Hồ Chí Minh</td>\n",
       "      <td>\\r\\n29/11/2022</td>\n",
       "    </tr>\n",
       "    <tr>\n",
       "      <th>4</th>\n",
       "      <td>2119311</td>\n",
       "      <td>Cho thuê phòng ĐẸP 16m2 đường Thành Thái-Q10, ...</td>\n",
       "      <td>5 Triệu/tháng</td>\n",
       "      <td>16m²</td>\n",
       "      <td>Quận 10</td>\n",
       "      <td>Hồ Chí Minh</td>\n",
       "      <td>\\r\\n25/11/2022</td>\n",
       "    </tr>\n",
       "  </tbody>\n",
       "</table>\n",
       "</div>"
      ],
      "text/plain": [
       "        Id                                              Title  \\\n",
       "0  2127880  Phòng nội thất cao cấp ưu tiên nữ, gần vòng xo...   \n",
       "1  2127970  Nhà Cho Thuê RỘNG RÃI - THOÁNG MÁT - AN NINH -...   \n",
       "2  2127186  Cho thuê mặt bằng KD và phòng trọ số 36/66 Ngu...   \n",
       "3  2122158  Thuê phòng 2.5 triệu 20m2 căn bìa tầng trệt gầ...   \n",
       "4  2119311  Cho thuê phòng ĐẸP 16m2 đường Thành Thái-Q10, ...   \n",
       "\n",
       "              Price  Square    District         City             Date  \n",
       "0  2.9 Triệu/tháng     22m²     Tân Phú  Hồ Chí Minh  \\r\\n08/12/2022   \n",
       "1  3.5 Triệu/tháng   52.5m²      Quận 9  Hồ Chí Minh  \\r\\n08/12/2022   \n",
       "2    2 Triệu/tháng      6m²  Bình Thạnh  Hồ Chí Minh  \\r\\n07/12/2022   \n",
       "3  2.5 Triệu/tháng     20m²      Quận 4  Hồ Chí Minh  \\r\\n29/11/2022   \n",
       "4    5 Triệu/tháng     16m²     Quận 10  Hồ Chí Minh  \\r\\n25/11/2022   "
      ]
     },
     "execution_count": 60,
     "metadata": {},
     "output_type": "execute_result"
    }
   ],
   "source": [
    "df_info = pd.read_csv('inf.csv')\n",
    "df_info.head()"
   ]
  },
  {
   "cell_type": "code",
   "execution_count": 61,
   "metadata": {},
   "outputs": [
    {
     "data": {
      "text/html": [
       "<div>\n",
       "<style scoped>\n",
       "    .dataframe tbody tr th:only-of-type {\n",
       "        vertical-align: middle;\n",
       "    }\n",
       "\n",
       "    .dataframe tbody tr th {\n",
       "        vertical-align: top;\n",
       "    }\n",
       "\n",
       "    .dataframe thead th {\n",
       "        text-align: right;\n",
       "    }\n",
       "</style>\n",
       "<table border=\"1\" class=\"dataframe\">\n",
       "  <thead>\n",
       "    <tr style=\"text-align: right;\">\n",
       "      <th></th>\n",
       "      <th>Title</th>\n",
       "      <th>Price</th>\n",
       "      <th>Square</th>\n",
       "      <th>District</th>\n",
       "      <th>City</th>\n",
       "      <th>Date</th>\n",
       "    </tr>\n",
       "    <tr>\n",
       "      <th>Id</th>\n",
       "      <th></th>\n",
       "      <th></th>\n",
       "      <th></th>\n",
       "      <th></th>\n",
       "      <th></th>\n",
       "      <th></th>\n",
       "    </tr>\n",
       "  </thead>\n",
       "  <tbody>\n",
       "    <tr>\n",
       "      <th>478324</th>\n",
       "      <td>Cho thuê phòng để ở tại 108/64A1 Trần Quang Di...</td>\n",
       "      <td>3.5 Triệu/tháng</td>\n",
       "      <td>18m²</td>\n",
       "      <td>Quận 3</td>\n",
       "      <td>Hồ Chí Minh</td>\n",
       "      <td>\\r\\n20/06/2020</td>\n",
       "    </tr>\n",
       "    <tr>\n",
       "      <th>728993</th>\n",
       "      <td>Phòng vừa xây xong thoáng mát gần các trường Đ...</td>\n",
       "      <td>3.3 Triệu/tháng</td>\n",
       "      <td>25 m²</td>\n",
       "      <td>Quận 7</td>\n",
       "      <td>Hồ Chí Minh</td>\n",
       "      <td>\\r\\n17/10/2018</td>\n",
       "    </tr>\n",
       "    <tr>\n",
       "      <th>781296</th>\n",
       "      <td>Cần share lại gấp phòng trọ mới thuê tại đường...</td>\n",
       "      <td>3 Triệu/tháng</td>\n",
       "      <td>15m²</td>\n",
       "      <td>Quận 10</td>\n",
       "      <td>Hồ Chí Minh</td>\n",
       "      <td>\\r\\n05/10/2018</td>\n",
       "    </tr>\n",
       "    <tr>\n",
       "      <th>781448</th>\n",
       "      <td>Chính chủ cho thuê căn hộ dịch vụ gần sân bay ...</td>\n",
       "      <td>7 Triệu/tháng</td>\n",
       "      <td>27m²</td>\n",
       "      <td>Tân Bình</td>\n",
       "      <td>Hồ Chí Minh</td>\n",
       "      <td>\\r\\n06/10/2018</td>\n",
       "    </tr>\n",
       "    <tr>\n",
       "      <th>789361</th>\n",
       "      <td>Phòng cho thuê giá rẻ, Quận Gò Vấp gần chung c...</td>\n",
       "      <td>1.7 Triệu/tháng</td>\n",
       "      <td>12m²</td>\n",
       "      <td>Gò Vấp</td>\n",
       "      <td>Hồ Chí Minh</td>\n",
       "      <td>\\r\\n09/10/2018</td>\n",
       "    </tr>\n",
       "  </tbody>\n",
       "</table>\n",
       "</div>"
      ],
      "text/plain": [
       "                                                    Title             Price  \\\n",
       "Id                                                                            \n",
       "478324  Cho thuê phòng để ở tại 108/64A1 Trần Quang Di...  3.5 Triệu/tháng    \n",
       "728993  Phòng vừa xây xong thoáng mát gần các trường Đ...   3.3 Triệu/tháng   \n",
       "781296  Cần share lại gấp phòng trọ mới thuê tại đường...    3 Triệu/tháng    \n",
       "781448  Chính chủ cho thuê căn hộ dịch vụ gần sân bay ...    7 Triệu/tháng    \n",
       "789361  Phòng cho thuê giá rẻ, Quận Gò Vấp gần chung c...  1.7 Triệu/tháng    \n",
       "\n",
       "       Square  District         City             Date  \n",
       "Id                                                     \n",
       "478324   18m²    Quận 3  Hồ Chí Minh  \\r\\n20/06/2020   \n",
       "728993  25 m²    Quận 7  Hồ Chí Minh  \\r\\n17/10/2018   \n",
       "781296   15m²   Quận 10  Hồ Chí Minh  \\r\\n05/10/2018   \n",
       "781448   27m²  Tân Bình  Hồ Chí Minh  \\r\\n06/10/2018   \n",
       "789361   12m²    Gò Vấp  Hồ Chí Minh  \\r\\n09/10/2018   "
      ]
     },
     "execution_count": 61,
     "metadata": {},
     "output_type": "execute_result"
    }
   ],
   "source": [
    "df_info = df_info.set_index('Id').sort_index()\n",
    "df_info.head()"
   ]
  },
  {
   "cell_type": "code",
   "execution_count": 62,
   "metadata": {},
   "outputs": [
    {
     "data": {
      "text/plain": [
       "(1185, 6)"
      ]
     },
     "execution_count": 62,
     "metadata": {},
     "output_type": "execute_result"
    }
   ],
   "source": [
    "df_info.shape"
   ]
  },
  {
   "attachments": {},
   "cell_type": "markdown",
   "metadata": {},
   "source": [
    "Dataset có 1185 dòng và 6 cột\n",
    "\n",
    "Mỗi dòng cho biết thông tin của nhà trọ hoặc phòng trọ cho thuê. Có vẻ không có vấn đề các dòng có ý nghĩa khác nhau."
   ]
  },
  {
   "cell_type": "code",
   "execution_count": 63,
   "metadata": {},
   "outputs": [
    {
     "data": {
      "text/plain": [
       "0"
      ]
     },
     "execution_count": 63,
     "metadata": {},
     "output_type": "execute_result"
    }
   ],
   "source": [
    "df_info.duplicated().sum()"
   ]
  },
  {
   "attachments": {},
   "cell_type": "markdown",
   "metadata": {},
   "source": [
    "Mỗi cột có ý nghĩa gì?\n",
    "Ý nghĩa của mỗi cột là:\n",
    "\n",
    "ID là để phân biệt phòng trọ, nhà trọ.\n",
    "\n",
    "Title là tiêu đề của phòng trọ, nhà trọ.\n",
    "\n",
    "Price là giá cho thuê của phòng trọ, nhà trọ theo tháng, đơn vị là VNĐ.\n",
    "\n",
    "Square là diện tích của phòng trọ, nhà trọ, đơn vị là m2\n",
    "\n",
    "District là địa chỉ quận của phòng trọ, nhà trọ.\n",
    "\n",
    "City là địa chỉ thành phố của phòng trọ, nhà trọ.\n",
    "\n",
    "Date là ngày đăng tin cho thuê của phòng trọ, nhà trọ."
   ]
  },
  {
   "cell_type": "code",
   "execution_count": 64,
   "metadata": {},
   "outputs": [
    {
     "data": {
      "text/plain": [
       "Index(['Title', 'Price', 'Square', 'District', 'City', 'Date'], dtype='object')"
      ]
     },
     "execution_count": 64,
     "metadata": {},
     "output_type": "execute_result"
    }
   ],
   "source": [
    "df_info.columns"
   ]
  },
  {
   "attachments": {},
   "cell_type": "markdown",
   "metadata": {},
   "source": [
    "------------"
   ]
  },
  {
   "attachments": {},
   "cell_type": "markdown",
   "metadata": {},
   "source": [
    "KIỂM TRA KIỂU DỮ LIỆU"
   ]
  },
  {
   "cell_type": "code",
   "execution_count": 65,
   "metadata": {},
   "outputs": [
    {
     "data": {
      "text/plain": [
       "Title       object\n",
       "Price       object\n",
       "Square      object\n",
       "District    object\n",
       "City        object\n",
       "Date        object\n",
       "dtype: object"
      ]
     },
     "execution_count": 65,
     "metadata": {},
     "output_type": "execute_result"
    }
   ],
   "source": [
    "df_info.dtypes"
   ]
  },
  {
   "attachments": {},
   "cell_type": "markdown",
   "metadata": {},
   "source": [
    "Kết quả trên cho thấy tất cả các cột đều có kiểu dữ liệu là object. Gây khó khăn cho quá trình tính toán.\n",
    "\n",
    "Ta thấy rằng có 3 cột có thể chuyển sang dạng khác là Price (numeric), Square (numeric) và Date (datetime). Tiến hành chuyển thôi nàoo"
   ]
  },
  {
   "attachments": {},
   "cell_type": "markdown",
   "metadata": {},
   "source": [
    "-----"
   ]
  },
  {
   "cell_type": "code",
   "execution_count": 66,
   "metadata": {},
   "outputs": [
    {
     "data": {
      "text/plain": [
       "Id\n",
       "478324       18m²\n",
       "728993      25 m²\n",
       "781296       15m²\n",
       "781448       27m²\n",
       "789361       12m²\n",
       "            ...  \n",
       "2119311      16m²\n",
       "2122158      20m²\n",
       "2127186       6m²\n",
       "2127880      22m²\n",
       "2127970    52.5m²\n",
       "Name: Square, Length: 1185, dtype: object"
      ]
     },
     "execution_count": 66,
     "metadata": {},
     "output_type": "execute_result"
    }
   ],
   "source": [
    "df_info['Square']"
   ]
  },
  {
   "attachments": {},
   "cell_type": "markdown",
   "metadata": {},
   "source": [
    "Ta thấy các dữ liệu để có m² ở sau, ta loại bỏ và chuyển nó sang dạng float."
   ]
  },
  {
   "cell_type": "code",
   "execution_count": 67,
   "metadata": {},
   "outputs": [],
   "source": [
    "df_info['Square'] = df_info['Square'].str.replace(\"m²\",\"\").to_list()\n",
    "df_info['Square']= pd.to_numeric(df_info['Square'], errors='coerce')"
   ]
  },
  {
   "cell_type": "code",
   "execution_count": 68,
   "metadata": {},
   "outputs": [],
   "source": [
    "df_info.rename(columns={'Square': 'Square(m²)'}, inplace = True)"
   ]
  },
  {
   "cell_type": "code",
   "execution_count": 69,
   "metadata": {},
   "outputs": [
    {
     "data": {
      "text/html": [
       "<div>\n",
       "<style scoped>\n",
       "    .dataframe tbody tr th:only-of-type {\n",
       "        vertical-align: middle;\n",
       "    }\n",
       "\n",
       "    .dataframe tbody tr th {\n",
       "        vertical-align: top;\n",
       "    }\n",
       "\n",
       "    .dataframe thead th {\n",
       "        text-align: right;\n",
       "    }\n",
       "</style>\n",
       "<table border=\"1\" class=\"dataframe\">\n",
       "  <thead>\n",
       "    <tr style=\"text-align: right;\">\n",
       "      <th></th>\n",
       "      <th>Title</th>\n",
       "      <th>Price</th>\n",
       "      <th>Square(m²)</th>\n",
       "      <th>District</th>\n",
       "      <th>City</th>\n",
       "      <th>Date</th>\n",
       "    </tr>\n",
       "    <tr>\n",
       "      <th>Id</th>\n",
       "      <th></th>\n",
       "      <th></th>\n",
       "      <th></th>\n",
       "      <th></th>\n",
       "      <th></th>\n",
       "      <th></th>\n",
       "    </tr>\n",
       "  </thead>\n",
       "  <tbody>\n",
       "    <tr>\n",
       "      <th>478324</th>\n",
       "      <td>Cho thuê phòng để ở tại 108/64A1 Trần Quang Di...</td>\n",
       "      <td>3.5 Triệu/tháng</td>\n",
       "      <td>18.0</td>\n",
       "      <td>Quận 3</td>\n",
       "      <td>Hồ Chí Minh</td>\n",
       "      <td>\\r\\n20/06/2020</td>\n",
       "    </tr>\n",
       "    <tr>\n",
       "      <th>728993</th>\n",
       "      <td>Phòng vừa xây xong thoáng mát gần các trường Đ...</td>\n",
       "      <td>3.3 Triệu/tháng</td>\n",
       "      <td>25.0</td>\n",
       "      <td>Quận 7</td>\n",
       "      <td>Hồ Chí Minh</td>\n",
       "      <td>\\r\\n17/10/2018</td>\n",
       "    </tr>\n",
       "    <tr>\n",
       "      <th>781296</th>\n",
       "      <td>Cần share lại gấp phòng trọ mới thuê tại đường...</td>\n",
       "      <td>3 Triệu/tháng</td>\n",
       "      <td>15.0</td>\n",
       "      <td>Quận 10</td>\n",
       "      <td>Hồ Chí Minh</td>\n",
       "      <td>\\r\\n05/10/2018</td>\n",
       "    </tr>\n",
       "    <tr>\n",
       "      <th>781448</th>\n",
       "      <td>Chính chủ cho thuê căn hộ dịch vụ gần sân bay ...</td>\n",
       "      <td>7 Triệu/tháng</td>\n",
       "      <td>27.0</td>\n",
       "      <td>Tân Bình</td>\n",
       "      <td>Hồ Chí Minh</td>\n",
       "      <td>\\r\\n06/10/2018</td>\n",
       "    </tr>\n",
       "    <tr>\n",
       "      <th>789361</th>\n",
       "      <td>Phòng cho thuê giá rẻ, Quận Gò Vấp gần chung c...</td>\n",
       "      <td>1.7 Triệu/tháng</td>\n",
       "      <td>12.0</td>\n",
       "      <td>Gò Vấp</td>\n",
       "      <td>Hồ Chí Minh</td>\n",
       "      <td>\\r\\n09/10/2018</td>\n",
       "    </tr>\n",
       "    <tr>\n",
       "      <th>...</th>\n",
       "      <td>...</td>\n",
       "      <td>...</td>\n",
       "      <td>...</td>\n",
       "      <td>...</td>\n",
       "      <td>...</td>\n",
       "      <td>...</td>\n",
       "    </tr>\n",
       "    <tr>\n",
       "      <th>2119311</th>\n",
       "      <td>Cho thuê phòng ĐẸP 16m2 đường Thành Thái-Q10, ...</td>\n",
       "      <td>5 Triệu/tháng</td>\n",
       "      <td>16.0</td>\n",
       "      <td>Quận 10</td>\n",
       "      <td>Hồ Chí Minh</td>\n",
       "      <td>\\r\\n25/11/2022</td>\n",
       "    </tr>\n",
       "    <tr>\n",
       "      <th>2122158</th>\n",
       "      <td>Thuê phòng 2.5 triệu 20m2 căn bìa tầng trệt gầ...</td>\n",
       "      <td>2.5 Triệu/tháng</td>\n",
       "      <td>20.0</td>\n",
       "      <td>Quận 4</td>\n",
       "      <td>Hồ Chí Minh</td>\n",
       "      <td>\\r\\n29/11/2022</td>\n",
       "    </tr>\n",
       "    <tr>\n",
       "      <th>2127186</th>\n",
       "      <td>Cho thuê mặt bằng KD và phòng trọ số 36/66 Ngu...</td>\n",
       "      <td>2 Triệu/tháng</td>\n",
       "      <td>6.0</td>\n",
       "      <td>Bình Thạnh</td>\n",
       "      <td>Hồ Chí Minh</td>\n",
       "      <td>\\r\\n07/12/2022</td>\n",
       "    </tr>\n",
       "    <tr>\n",
       "      <th>2127880</th>\n",
       "      <td>Phòng nội thất cao cấp ưu tiên nữ, gần vòng xo...</td>\n",
       "      <td>2.9 Triệu/tháng</td>\n",
       "      <td>22.0</td>\n",
       "      <td>Tân Phú</td>\n",
       "      <td>Hồ Chí Minh</td>\n",
       "      <td>\\r\\n08/12/2022</td>\n",
       "    </tr>\n",
       "    <tr>\n",
       "      <th>2127970</th>\n",
       "      <td>Nhà Cho Thuê RỘNG RÃI - THOÁNG MÁT - AN NINH -...</td>\n",
       "      <td>3.5 Triệu/tháng</td>\n",
       "      <td>52.5</td>\n",
       "      <td>Quận 9</td>\n",
       "      <td>Hồ Chí Minh</td>\n",
       "      <td>\\r\\n08/12/2022</td>\n",
       "    </tr>\n",
       "  </tbody>\n",
       "</table>\n",
       "<p>1185 rows × 6 columns</p>\n",
       "</div>"
      ],
      "text/plain": [
       "                                                     Title             Price  \\\n",
       "Id                                                                             \n",
       "478324   Cho thuê phòng để ở tại 108/64A1 Trần Quang Di...  3.5 Triệu/tháng    \n",
       "728993   Phòng vừa xây xong thoáng mát gần các trường Đ...   3.3 Triệu/tháng   \n",
       "781296   Cần share lại gấp phòng trọ mới thuê tại đường...    3 Triệu/tháng    \n",
       "781448   Chính chủ cho thuê căn hộ dịch vụ gần sân bay ...    7 Triệu/tháng    \n",
       "789361   Phòng cho thuê giá rẻ, Quận Gò Vấp gần chung c...  1.7 Triệu/tháng    \n",
       "...                                                    ...               ...   \n",
       "2119311  Cho thuê phòng ĐẸP 16m2 đường Thành Thái-Q10, ...    5 Triệu/tháng    \n",
       "2122158  Thuê phòng 2.5 triệu 20m2 căn bìa tầng trệt gầ...  2.5 Triệu/tháng    \n",
       "2127186  Cho thuê mặt bằng KD và phòng trọ số 36/66 Ngu...    2 Triệu/tháng    \n",
       "2127880  Phòng nội thất cao cấp ưu tiên nữ, gần vòng xo...  2.9 Triệu/tháng    \n",
       "2127970  Nhà Cho Thuê RỘNG RÃI - THOÁNG MÁT - AN NINH -...  3.5 Triệu/tháng    \n",
       "\n",
       "         Square(m²)    District         City             Date  \n",
       "Id                                                             \n",
       "478324         18.0      Quận 3  Hồ Chí Minh  \\r\\n20/06/2020   \n",
       "728993         25.0      Quận 7  Hồ Chí Minh  \\r\\n17/10/2018   \n",
       "781296         15.0     Quận 10  Hồ Chí Minh  \\r\\n05/10/2018   \n",
       "781448         27.0    Tân Bình  Hồ Chí Minh  \\r\\n06/10/2018   \n",
       "789361         12.0      Gò Vấp  Hồ Chí Minh  \\r\\n09/10/2018   \n",
       "...             ...         ...          ...              ...  \n",
       "2119311        16.0     Quận 10  Hồ Chí Minh  \\r\\n25/11/2022   \n",
       "2122158        20.0      Quận 4  Hồ Chí Minh  \\r\\n29/11/2022   \n",
       "2127186         6.0  Bình Thạnh  Hồ Chí Minh  \\r\\n07/12/2022   \n",
       "2127880        22.0     Tân Phú  Hồ Chí Minh  \\r\\n08/12/2022   \n",
       "2127970        52.5      Quận 9  Hồ Chí Minh  \\r\\n08/12/2022   \n",
       "\n",
       "[1185 rows x 6 columns]"
      ]
     },
     "execution_count": 69,
     "metadata": {},
     "output_type": "execute_result"
    }
   ],
   "source": [
    "df_info"
   ]
  },
  {
   "attachments": {},
   "cell_type": "markdown",
   "metadata": {},
   "source": [
    "-------"
   ]
  },
  {
   "cell_type": "code",
   "execution_count": 70,
   "metadata": {},
   "outputs": [
    {
     "data": {
      "text/plain": [
       "Id\n",
       "478324     3.5 Triệu/tháng \n",
       "728993      3.3 Triệu/tháng\n",
       "781296       3 Triệu/tháng \n",
       "781448       7 Triệu/tháng \n",
       "789361     1.7 Triệu/tháng \n",
       "                 ...       \n",
       "2119311      5 Triệu/tháng \n",
       "2122158    2.5 Triệu/tháng \n",
       "2127186      2 Triệu/tháng \n",
       "2127880    2.9 Triệu/tháng \n",
       "2127970    3.5 Triệu/tháng \n",
       "Name: Price, Length: 1185, dtype: object"
      ]
     },
     "execution_count": 70,
     "metadata": {},
     "output_type": "execute_result"
    }
   ],
   "source": [
    "df_info['Price']"
   ]
  },
  {
   "attachments": {},
   "cell_type": "markdown",
   "metadata": {},
   "source": [
    "Ta thấy các dữ liệu đều có đuôi là Triệu/tháng. Còn đuôi nào nữa không nhỉ? Kiểm tra thử nhé."
   ]
  },
  {
   "cell_type": "code",
   "execution_count": 71,
   "metadata": {},
   "outputs": [
    {
     "data": {
      "text/plain": [
       "array(['3.5 Triệu/tháng ', '3.3 Triệu/tháng', '3 Triệu/tháng ',\n",
       "       '7 Triệu/tháng ', '1.7 Triệu/tháng ', '1.5 Triệu/tháng ',\n",
       "       '5 Triệu/tháng', 'Thương lượng', '6 Triệu/tháng',\n",
       "       '4.5 Trăm nghìn/tháng', '4 Triệu/tháng', '1.2 Triệu/tháng',\n",
       "       '5.5 Triệu/tháng', '4.5 Triệu/tháng ', '2.6 Triệu/tháng ',\n",
       "       '2.5 Triệu/tháng ', '3500 Triệu/tháng ', '4.7 Triệu/tháng',\n",
       "       '2.3 Triệu/tháng', '1.1 Triệu/tháng', '1 Triệu/tháng',\n",
       "       '3.7 Triệu/tháng', '3.5 Triệu/tháng', '2.6 Triệu/tháng',\n",
       "       '7.5 Triệu/tháng', '5.8 Triệu/tháng', '3 Triệu/tháng',\n",
       "       '5.9 Triệu/tháng', '2.8 Triệu/tháng', '1.3 Triệu/tháng',\n",
       "       '1.8 Triệu/tháng ', '4 Triệu/tháng ', '2.1 Triệu/tháng',\n",
       "       '2.5 Triệu/tháng', '1.5 Triệu/tháng', '1.9 Triệu/tháng',\n",
       "       '2.2 Triệu/tháng', '3.2 Triệu/tháng', '1.25 Triệu/tháng',\n",
       "       '6.8 Triệu/tháng', '2.7 Triệu/tháng ', '4.5 Triệu/tháng',\n",
       "       '6.5 Triệu/tháng', '2 Triệu/tháng ', '9 Trăm nghìn/tháng',\n",
       "       '2 Triệu/tháng', '2.25 Triệu/tháng', '3.4 Triệu/tháng',\n",
       "       '1.6 Triệu/tháng', '10 Triệu/tháng', '1.8 Triệu/tháng',\n",
       "       '35 Trăm nghìn/tháng', '4.9 Triệu/tháng', '1.7 Triệu/tháng',\n",
       "       '5.3 Triệu/tháng', '2.7 Triệu/tháng', '6.2 Triệu/tháng',\n",
       "       '4.2 Triệu/tháng', '6.1 Triệu/tháng', '4.8 Triệu/tháng',\n",
       "       '1.4 Triệu/tháng', '45 Trăm nghìn/tháng', '9 Triệu/tháng',\n",
       "       '7 Triệu/tháng', '6.6 Triệu/tháng', '8.5 Triệu/tháng',\n",
       "       '11 Triệu/tháng', '5.1 Triệu/tháng', '40 Trăm nghìn/tháng',\n",
       "       '2.8 Triệu/tháng ', '1.2 Triệu/tháng ', '0.6 Triệu/tháng ',\n",
       "       '1.6 Triệu/tháng ', '1.3 Triệu/tháng ', '6 Triệu/tháng ',\n",
       "       '0.45 Triệu/tháng ', '5 Triệu/tháng ', '3.2 Triệu/tháng ',\n",
       "       '3.7 Triệu/tháng ', '1 Triệu/tháng ', '1.9 Triệu/tháng ',\n",
       "       '3.6 Triệu/tháng ', '5.5 Triệu/tháng ', '2.1 Triệu/tháng ',\n",
       "       '0.8 Triệu/tháng ', '0.9 Triệu/tháng ', '2.9 Triệu/tháng ',\n",
       "       '1.4 Triệu/tháng ', '8 Triệu/tháng ', '1200000 Triệu/tháng ',\n",
       "       '6.5 Triệu/tháng ', '2.3 Triệu/tháng ', '2.95 Triệu/tháng ',\n",
       "       '10 Triệu/tháng ', '4.2 Triệu/tháng ', '0.7 Triệu/tháng ',\n",
       "       '28 Triệu/tháng ', '4.8 Triệu/tháng ', '3000000 Triệu/tháng ',\n",
       "       '2.2 Triệu/tháng ', '8.5 Triệu/tháng ', '2.4 Triệu/tháng ',\n",
       "       '0.85 Triệu/tháng ', '3.1 Triệu/tháng ', '3.8 Triệu/tháng ',\n",
       "       '1600000 Triệu/tháng ', '1.1 Triệu/tháng ', '1500000 Triệu/tháng ',\n",
       "       '4.3 Triệu/tháng ', '1.15 Triệu/tháng ', '9.5 Triệu/tháng ',\n",
       "       '12 Triệu/tháng ', '5.8 Triệu/tháng ', '24 Triệu/tháng ',\n",
       "       '0.002 Triệu/tháng ', '23 Triệu/tháng ', '1.02 Triệu/tháng ',\n",
       "       '25 Triệu/tháng ', '32 Triệu/tháng ', '40 Triệu/tháng ',\n",
       "       '33 Triệu/tháng ', '3.3 Triệu/tháng ', '350 Triệu/tháng ',\n",
       "       '5.9 Triệu/tháng ', '2.45 Triệu/tháng ', '6.3 Triệu/tháng ',\n",
       "       '3.99 Triệu/tháng ', '13 Triệu/tháng ', '50.005 Triệu/tháng ',\n",
       "       '30 Triệu/tháng ', '0.23 Triệu/tháng ', '0 Triệu/tháng ',\n",
       "       '3.4 Triệu/tháng ', '34 Triệu/tháng ', '4.6 Triệu/tháng ',\n",
       "       '5.2 Triệu/tháng ', '50 Triệu/tháng ', '305 Triệu/tháng ',\n",
       "       '1.85 Triệu/tháng ', '0.005 Triệu/tháng ', '5.3 Triệu/tháng ',\n",
       "       '4.1 Triệu/tháng ', '3.05 Triệu/tháng ', '1.004 Triệu/tháng ',\n",
       "       '1.65 Triệu/tháng ', '5.7 Triệu/tháng ', '0.5 Triệu/tháng ',\n",
       "       '3.9 Triệu/tháng ', '0.65 Triệu/tháng ', '7.5 Triệu/tháng ',\n",
       "       '6.8 Triệu/tháng ', '4.7 Triệu/tháng ', '7.2 Triệu/tháng ',\n",
       "       '60 Triệu/tháng ', '3.005 Triệu/tháng ', '9 Triệu/tháng ',\n",
       "       '11 Triệu/tháng ', '3.55 Triệu/tháng ', '4.9 Triệu/tháng ',\n",
       "       '1.35 Triệu/tháng ', '6.2 Triệu/tháng '], dtype=object)"
      ]
     },
     "execution_count": 71,
     "metadata": {},
     "output_type": "execute_result"
    }
   ],
   "source": [
    "df_info['Price'].unique()"
   ]
  },
  {
   "attachments": {},
   "cell_type": "markdown",
   "metadata": {},
   "source": [
    "Các kiểu dữ liệu có đuôi là Trăm nghìn/tháng, Triệu/tháng\n",
    "\n",
    "Và kiểu dữ liệu là Thương lượng\n",
    "\n",
    "Ta sẽ chuyển các dữ liệu về dạng float và tiêu chuẩn là Triệu/tháng.\n",
    "Thương lượng sẽ để là NaN"
   ]
  },
  {
   "cell_type": "code",
   "execution_count": 72,
   "metadata": {},
   "outputs": [],
   "source": [
    "def convert_price(price):\n",
    "   if 'Triệu/tháng' in price:\n",
    "      price = price.replace('Triệu/tháng', '')\n",
    "      return float(price)\n",
    "   if 'Thương lượng' in price:\n",
    "      return np.nan\n",
    "   if 'Trăm nghìn/tháng' in price:\n",
    "      price = price.replace('Trăm nghìn/tháng', '')\n",
    "      return float(price)/10\n",
    "   return np.nan"
   ]
  },
  {
   "cell_type": "code",
   "execution_count": 73,
   "metadata": {},
   "outputs": [],
   "source": [
    "df_price = df_info['Price'].to_list()"
   ]
  },
  {
   "cell_type": "code",
   "execution_count": 74,
   "metadata": {},
   "outputs": [],
   "source": [
    "for i in range(len(df_price)):\n",
    "   df_price[i] = convert_price(df_price[i])"
   ]
  },
  {
   "attachments": {},
   "cell_type": "markdown",
   "metadata": {},
   "source": [
    "df_price = df_info['Price'].to_list() # convert to array\n",
    "\n",
    "df_price = df_info['Price'].to_numpy() # convert to ndarray\n",
    "\n",
    "In NumPy, the ndarray (n-dimensional array) is an object that stores a collection of items, which are typically numbers. By default, the ndarray is created with the \"read-only\" property, which means that the data stored in the array cannot be modified. "
   ]
  },
  {
   "cell_type": "code",
   "execution_count": 75,
   "metadata": {},
   "outputs": [
    {
     "name": "stdout",
     "output_type": "stream",
     "text": [
      "[3.5, 3.3, 3.0, 7.0, 1.7, 1.5, 5.0, 5.0, 5.0, nan, 6.0, 0.45, 4.0, 5.0, 1.2, 5.5, 4.5, 2.6, 4.5, 2.5, 3500.0, 0.45, 4.7, 5.5, 0.45, 0.45, 0.45, 0.45, 2.3, 5.0, 1.1, 3.3, nan, 4.0, 4.0, 2.3, 1.0, 6.0, 0.45, 3.7, 3.5, 0.45, 0.45, 2.6, 7.5, 5.8, 3.0, 0.45, 2.6, 6.0, 3.5, 5.9, 5.0, nan, 2.8, 3.5, nan, 1.3, 5.0, 1.8, 4.0, 1.7, 2.8, 2.1, 2.5, 2.3, nan, 0.45, 5.5, 2.6, 0.45, 1.5, 1.9, 2.2, 3.2, 2.5, 1.25, 6.8, 2.7, 4.5, 4.5, 6.5, 4.5, 4.5, 4.5, 2.0, 4.0, 0.9, 2.0, 3.0, 3.5, 4.0, 2.25, 3.2, 3.4, 3.4, 5.0, 3.5, 3.5, 3.7, 2.8, 3.0, 1.1, 1.6, 1.2, 1.0, 6.5, 2.8, 4.0, 2.2, 4.0, 10.0, 4.0, nan, 5.0, 1.8, 4.0, 4.0, nan, 3.5, 4.0, 5.0, 5.0, 5.0, 5.0, 2.2, 1.8, 5.0, 4.9, 7.5, 3.2, 2.0, 5.8, 3.5, 0.45, 1.7, 0.45, 0.45, 0.45, 5.3, 5.0, 5.0, 2.7, 4.0, 6.0, 3.5, 5.0, 6.2, 0.45, 5.0, 4.2, 1.5, 4.2, 4.5, 4.5, 5.0, 3.0, 6.1, 1.5, nan, 4.8, 4.5, 1.4, 4.8, 5.3, 4.8, 3.0, 4.5, 3.0, 4.5, 4.0, 2.7, 9.0, 3.5, 3.5, 3.3, 4.5, 7.0, 6.6, 4.5, 0.45, 6.5, 5.3, 4.0, 1.0, 4.0, 5.5, 6.0, 4.0, 4.5, 3.5, 8.5, 11.0, 7.0, 4.5, 0.45, 4.0, 2.0, 0.45, 5.5, 5.1, 3.5, 4.0, 0.45, 4.5, 0.45, 3.7, 4.5, 5.5, 6.5, 2.7, 2.8, 2.7, 6.0, 5.5, 3.0, 4.0, 4.0, 1.2, 2.5, 4.0, 4.5, 4.5, 0.6, 1.6, 2.8, 1.3, 3.0, 1.6, 3.5, 4.0, 2.6, 6.0, 4.0, 4.0, 0.45, 3.5, 1.7, 5.0, 3.0, 2.5, 1.5, 4.0, 2.0, 3.5, 2.5, 3.2, 4.0, 3.2, 3.0, 2.6, 3.5, 2.5, 3.7, 1.0, 1.5, 1.9, 2.5, 5.0, 2.0, 1.0, 3.2, 4.5, 1.6, 3.5, 3.0, 4.5, 2.0, 3.6, 5.5, 3.0, 1.7, 4.0, 6.0, 3.0, 3.0, 3.2, 2.0, 3.5, 1.9, 2.1, 2.5, 4.0, 0.8, 1.0, 0.9, 3.0, 1.6, 2.9, 1.4, 2.0, 2.5, 1.5, 3.0, 4.5, 8.0, 1.0, 1.6, 2.5, 3.0, 1.5, 3.2, 1200000.0, 2.0, 3.2, 4.0, 4.0, 7.0, 6.0, 0.8, 6.5, 2.0, 1.8, 3.5, 4.5, 2.3, 3.5, 4.0, 3.0, 3.5, 2.3, 6.0, 0.9, 3.6, 1.5, 3.0, 2.95, 1.8, 1.3, 1.0, 5.0, 1.8, 3.6, 10.0, 2.5, 4.0, 2.0, 3.5, 3.0, 6.5, 2.5, 4.0, 4.2, 2.5, 1.5, 1.8, 2.3, 4.0, 3.5, 0.7, 28.0, 3.0, 2.8, 2.0, 5.5, 4.8, 3.0, 3000000.0, 7.0, 2.2, 2.5, 2.5, 3.0, 2.5, 3.5, 3.5, 4.5, 4.5, 4.5, 2.5, 3.5, 2.5, 1.2, 1.0, 2.1, 1.0, 4.5, 8.5, 2.5, 2.2, 2.5, 3.0, 7.0, 2.4, 2.0, 2.2, 2.6, 3.0, 3.7, 2.2, 3.0, 2.5, 6.0, 0.85, 2.5, 4.0, 5.0, 8.5, 3.0, 5.5, 2.5, 2.8, 1.8, 2.5, 5.5, 5.0, 3.0, 3.0, 2.5, 5.0, 3.0, 0.85, 5.5, 4.0, 5.0, 1.0, 2.0, 1.8, 3.1, 2.8, 5.0, 3.5, 2.0, 6.0, 3.0, 2.8, 4.0, 3.8, 3.5, 2.5, 1.3, 3.0, 5.0, 6.0, 2.0, 1600000.0, 2.5, 1.1, 4.0, 1500000.0, 1.3, 3.0, 6.5, 10.0, 2.2, 4.5, 4.0, 2.8, 5.0, 3.5, 1.6, 3.7, 1.2, 1.5, 4.3, 1.15, 7.0, 9.5, 4.5, 3.5, 9.5, 12.0, 1.3, 8.5, 8.5, 8.0, 3.0, 1.2, 2.2, 2.5, 3.0, 3.0, 5.8, 5.8, 1.6, 2.0, 0.45, 4.0, 1.2, 8.0, 24.0, 0.002, 23.0, 1.02, 25.0, 32.0, 28.0, 25.0, 4.0, 40.0, 25.0, 33.0, 3.3, 1.5, 1.5, 3.0, 2.6, 2.0, 25.0, 2.5, 2.3, 4.5, 1.5, 4.0, 5.0, 2.0, 1.0, 2.5, 2.5, 1.0, 2.5, 2.9, 0.6, 2.3, 1.0, 4.0, 3.0, 1.0, 1.5, 3.1, 3.8, 3.0, 1.7, 5.5, 5.0, 2.95, 2.5, 350.0, 350.0, 2.0, 4.0, 3.0, 3.0, 2.6, 4.0, 5.9, 1.0, 2.45, 1.3, 2.5, 2.5, 0.9, 2.5, 2.6, 2.5, 2.5, 3.0, 0.6, 1.7, 1.6, 1.3, 3.2, 4.3, 3.2, 1.6, 3.0, 3.5, 2.5, 8.0, 8.5, 1.8, 2.2, 1.0, 4.0, 7.0, 2.7, 5.0, 2.0, 5.0, 2.0, 3.0, 5.5, 2.5, 2.5, 4.5, 5.0, 2.2, 6.3, 2.0, 4.0, 2.2, 3.99, 2.5, 1.7, 0.8, 2.5, 0.7, 5.8, 3.5, 5.0, 3.0, 1.2, 4.0, 8.0, 2.2, 3.0, 3.0, 3.0, 2.4, 1.2, 3.0, 4.5, 2.3, 4.2, 2.2, 2.5, 4.0, 2.5, 2.6, 2.2, 2.4, 2.4, 4.0, 13.0, 3.5, 4.5, 2.5, 2.8, 1.8, 3.0, 2.3, 2.0, 5.5, 2.0, 2.8, 1.6, 2.3, 4.0, 2.2, 5.5, 1.7, 2.5, 6.5, 3.0, 5.0, 1.6, 50.005, 2.5, 1.5, 3.5, 3.5, 6.5, 5.0, 2.5, 30.0, 2.8, 2.0, 1.8, 5.5, 1.2, 3.0, 5.5, 2.0, 0.23, 2.0, 2.0, 2.6, 3.5, 2.0, 5.0, 1.5, 1.5, 1.3, 3.0, 1.4, 1.6, 2.0, 2.0, 2.8, 3.8, 4.5, 3.5, 2.5, 1.6, 5.0, 3.8, 4.5, 0.0, 4.0, 1.6, 1.5, 3.5, 2.0, 2.5, 4.0, 1.8, 1.2, 3.0, 2.5, 4.5, 5.0, 2.9, 1.8, 1.6, 2.7, 1.6, 3.5, 3.4, 2.0, 1.6, 34.0, 2.5, 2.8, 3.0, 3.3, 1.7, 3.3, 3.5, 4.0, 4.6, 2.5, 3.0, 2.4, 1.6, 2.4, 3.0, 3.0, 3.0, 4.0, 2.0, 3.4, 2.7, 1.2, 3.0, 1.2, 2.4, 4.0, 2.0, 2.0, 2.6, 1.7, 2.4, 2.4, 5.0, 2.6, 3.0, 2.4, 4.5, 4.0, 0.9, 2.5, 3.3, 2.1, 5.2, 1.7, 2.5, 50.0, 1.6, 4.0, 50.0, 305.0, 6.0, 3.3, 1.85, 4.0, 2.4, 3.5, 2.8, 4.0, 3.2, 3.0, 2.0, 2.5, 0.002, 0.005, 3.0, 5.0, 1.0, 5.0, 1.2, 5.5, 4.0, 2.3, 3.5, 3.5, 1.7, 2.3, 1.0, 3.0, 4.3, 5.0, 3.0, 2.0, 8.0, 1.0, 6.0, 1.0, 1.0, 7.0, 2.0, 1.0, 5.0, 3.6, 1.0, 1.5, 1.6, 5.3, 1.0, 2.2, 1.6, 2.0, 2.0, 7.0, 4.0, 3.5, 2.0, 3.3, 3.0, 3.1, 3.0, 1.5, 4.5, 4.1, 4.1, 3.6, 1.3, 2.5, 1.5, 3.0, 2.3, 2.9, 3.0, 3.05, 4.5, 4.0, 2.7, 1.3, 2.5, 1.5, 4.0, 2.0, 2.0, 2.0, 1.2, 3.0, 2.3, 2.5, 2.7, 3.0, 2.5, 3.0, 3.0, 3.0, 2.5, 2.0, 3.0, 4.5, 1.5, 2.0, 2.5, 3.0, 3.5, 1.5, 1.004, 2.2, 3.0, 2.2, 2.0, 2.0, 3.5, 3.6, 2.2, 2.2, 2.2, 2.6, 1.5, 3.5, 3.4, 4.0, 3.0, 1.0, 2.1, 2.0, 2.45, 3.2, 4.0, 2.8, 2.0, 1.8, 4.0, 4.0, 1.4, 4.5, 1.5, 2.3, 3.2, 2.3, 2.3, 3.5, 3.5, 1.0, 1.8, 1.2, 4.2, 3.4, 3.5, 2.5, 3.0, 2.0, 2.5, 3.8, 1.65, 2.0, 2.3, 1.5, 5.5, 3.2, 3.3, 5.5, 3.5, 4.0, 5.5, 2.5, 1.8, 2.7, 3.0, 2.4, 3.2, 3.3, 3.3, 0.6, 1.6, 3.0, 5.7, 0.5, 2.0, 3.9, 2.0, 0.65, 1.5, 3.0, 0.8, 1.2, 1.5, 1.8, 2.0, 2.0, 3.5, 1.0, 4.0, 5.0, 4.0, 4.0, 4.0, 2.2, 2.0, 3.5, 1.5, 1.0, 3.0, 0.7, 4.0, 0.7, 0.7, 2.7, 1.3, 4.0, 1.5, 4.5, 6.0, 1.9, 4.0, 7.5, 2.5, 3.6, 3.6, 1.9, 4.5, 1.9, 4.8, 8.0, 3.3, 2.5, 5.5, 4.8, 2.5, 6.8, 4.2, 4.0, 1.6, 5.5, 2.8, 6.0, 2.5, 2.0, 1.9, 7.5, 4.7, 2.0, 4.8, 1.5, 4.5, 4.0, 3.2, 4.8, 2.5, 3.7, 5.0, 2.5, 4.0, 4.8, 7.0, 3.0, 4.5, 3.5, 4.5, 4.0, 4.0, 3.5, 4.0, 4.0, 2.8, 2.0, 5.0, 1.6, 3.5, 7.2, 60.0, 2.5, 1.4, 2.8, 2.2, 3.0, 1.4, 2.7, 2.5, 3.5, 7.5, 6.0, 2.0, 1.5, 3.5, 1.4, 3.0, 3.0, 3.0, 3.0, 1.6, 1.6, 3.3, 1.2, 2.0, 2.8, 8.0, 2.0, 2.2, 1.6, 3.5, 2.5, 1.8, 2.0, 1.6, 1.5, 3.0, 5.0, 2.0, 1.7, 1.7, 2.0, 3.005, 1.3, 4.8, 2.4, 2.0, 6.0, 2.9, 3.5, 3.0, 2.0, 2.0, 2.7, 4.5, 3.9, 5.0, 2.0, 2.0, 1.2, 2.1, 5.5, 2.7, 2.5, 6.3, 1.6, 1.7, 5.5, 7.5, 1.5, 5.5, 4.8, 8.5, 3.2, 2.8, 4.0, 3.2, 6.5, 2.0, 10.0, 4.7, 2.5, 7.5, 3.2, 1.3, 9.0, 5.5, 3.2, 2.9, 1.2, 2.5, 4.0, 3.2, 11.0, 5.5, 3.4, 2.9, 2.5, 3.8, 2.3, 2.5, 3.5, 1.4, 1.0, 1.0, 3.5, 3.5, 2.5, 3.8, 1.7, 4.0, 3.55, 3.7, 2.0, 4.0, 2.0, 3.0, 1.8, 1.8, 1.8, 3.0, 3.0, 2.0, 4.0, 5.0, 1.8, 2.3, 1.8, 1.8, 1.8, 2.5, 5.5, 4.0, 3.5, 3.2, 6.0, 4.9, 4.5, 2.0, 3.5, 1.5, 1.6, 4.0, 4.0, 0.7, 5.3, 4.5, 5.8, 8.0, 4.0, 3.7, 1.35, 6.2, 1.2, 6.5, 6.0, 4.5, 3.1, 3.6, 4.0, 2.8, 5.5, 2.8, 5.0, 2.5, 2.0, 2.9, 3.5]\n"
     ]
    }
   ],
   "source": [
    "print(df_price)"
   ]
  },
  {
   "attachments": {},
   "cell_type": "markdown",
   "metadata": {},
   "source": [
    "Có thể thấy một số outlier ở phía trên\n",
    "\n",
    "Some outlier above need to processed."
   ]
  },
  {
   "attachments": {},
   "cell_type": "markdown",
   "metadata": {},
   "source": [
    "------"
   ]
  },
  {
   "cell_type": "code",
   "execution_count": 76,
   "metadata": {},
   "outputs": [],
   "source": [
    "def convert_price(price,square):\n",
    "    if 'Triệu/tháng' in price:\n",
    "        price = price.replace('Triệu/tháng','')\n",
    "        return float(price)\n",
    "    if 'Trăm nghìn/tháng' in price:\n",
    "        price = price.replace('Trăm nghìn/tháng','')\n",
    "        return float(price)/10\n",
    "    if 'Triệu/m2/tháng' in price:\n",
    "        if pd.isna(square):\n",
    "            return np.nan\n",
    "        price = price.replace('Triệu/m2/tháng','')\n",
    "        return float(price)*square\n",
    "    if 'Trăm nghìn/m2/tháng' in price:\n",
    "        if pd.isna(square):\n",
    "            return np.nan\n",
    "        price = price.replace('Trăm nghìn/m2/tháng','')\n",
    "        price = float(price)/10\n",
    "        return price*square\n",
    "    if 'Nghìn/m2/tháng' in price:\n",
    "        if pd.isna(square):\n",
    "            return np.nan\n",
    "        price = price.replace('Nghìn/m2/tháng','')\n",
    "        price = float(price)/1000\n",
    "        return price*square\n",
    "    return np.nan\n",
    "\n",
    "\n",
    "df_price_square = df_info[['Price','Square(m²)']]"
   ]
  },
  {
   "cell_type": "code",
   "execution_count": 77,
   "metadata": {},
   "outputs": [
    {
     "name": "stdout",
     "output_type": "stream",
     "text": [
      "Id\n",
      "478324     3.5 Triệu/tháng \n",
      "728993      3.3 Triệu/tháng\n",
      "781296       3 Triệu/tháng \n",
      "781448       7 Triệu/tháng \n",
      "789361     1.7 Triệu/tháng \n",
      "                 ...       \n",
      "2119311      5 Triệu/tháng \n",
      "2122158    2.5 Triệu/tháng \n",
      "2127186      2 Triệu/tháng \n",
      "2127880    2.9 Triệu/tháng \n",
      "2127970    3.5 Triệu/tháng \n",
      "Name: Price, Length: 1185, dtype: object\n"
     ]
    }
   ],
   "source": [
    "print(df_price_square['Price'])"
   ]
  },
  {
   "cell_type": "code",
   "execution_count": 78,
   "metadata": {},
   "outputs": [],
   "source": [
    "# for i in range(len(df_price_square)):\n",
    "for i in df_price_square.index:\n",
    "   df_price_square.at[i, 'Price'] = convert_price(df_price_square.loc[i]['Price'],df_price_square.loc[i]['Square(m²)'])"
   ]
  },
  {
   "cell_type": "code",
   "execution_count": 79,
   "metadata": {},
   "outputs": [
    {
     "data": {
      "text/plain": [
       "pandas.core.series.Series"
      ]
     },
     "execution_count": 79,
     "metadata": {},
     "output_type": "execute_result"
    }
   ],
   "source": [
    "type(pd.to_numeric(df_price_square['Price']))"
   ]
  },
  {
   "cell_type": "code",
   "execution_count": 80,
   "metadata": {},
   "outputs": [],
   "source": [
    "df_info['Price']=df_price_square['Price'].to_list()"
   ]
  },
  {
   "cell_type": "code",
   "execution_count": 81,
   "metadata": {},
   "outputs": [],
   "source": [
    "df_info.rename(columns={'Price':'Price(Triệu/tháng)'}, inplace=True)"
   ]
  },
  {
   "cell_type": "code",
   "execution_count": 82,
   "metadata": {},
   "outputs": [
    {
     "data": {
      "text/html": [
       "<div>\n",
       "<style scoped>\n",
       "    .dataframe tbody tr th:only-of-type {\n",
       "        vertical-align: middle;\n",
       "    }\n",
       "\n",
       "    .dataframe tbody tr th {\n",
       "        vertical-align: top;\n",
       "    }\n",
       "\n",
       "    .dataframe thead th {\n",
       "        text-align: right;\n",
       "    }\n",
       "</style>\n",
       "<table border=\"1\" class=\"dataframe\">\n",
       "  <thead>\n",
       "    <tr style=\"text-align: right;\">\n",
       "      <th></th>\n",
       "      <th>Title</th>\n",
       "      <th>Price(Triệu/tháng)</th>\n",
       "      <th>Square(m²)</th>\n",
       "      <th>District</th>\n",
       "      <th>City</th>\n",
       "      <th>Date</th>\n",
       "    </tr>\n",
       "    <tr>\n",
       "      <th>Id</th>\n",
       "      <th></th>\n",
       "      <th></th>\n",
       "      <th></th>\n",
       "      <th></th>\n",
       "      <th></th>\n",
       "      <th></th>\n",
       "    </tr>\n",
       "  </thead>\n",
       "  <tbody>\n",
       "    <tr>\n",
       "      <th>478324</th>\n",
       "      <td>Cho thuê phòng để ở tại 108/64A1 Trần Quang Di...</td>\n",
       "      <td>3.5</td>\n",
       "      <td>18.0</td>\n",
       "      <td>Quận 3</td>\n",
       "      <td>Hồ Chí Minh</td>\n",
       "      <td>\\r\\n20/06/2020</td>\n",
       "    </tr>\n",
       "    <tr>\n",
       "      <th>728993</th>\n",
       "      <td>Phòng vừa xây xong thoáng mát gần các trường Đ...</td>\n",
       "      <td>3.3</td>\n",
       "      <td>25.0</td>\n",
       "      <td>Quận 7</td>\n",
       "      <td>Hồ Chí Minh</td>\n",
       "      <td>\\r\\n17/10/2018</td>\n",
       "    </tr>\n",
       "    <tr>\n",
       "      <th>781296</th>\n",
       "      <td>Cần share lại gấp phòng trọ mới thuê tại đường...</td>\n",
       "      <td>3.0</td>\n",
       "      <td>15.0</td>\n",
       "      <td>Quận 10</td>\n",
       "      <td>Hồ Chí Minh</td>\n",
       "      <td>\\r\\n05/10/2018</td>\n",
       "    </tr>\n",
       "    <tr>\n",
       "      <th>781448</th>\n",
       "      <td>Chính chủ cho thuê căn hộ dịch vụ gần sân bay ...</td>\n",
       "      <td>7.0</td>\n",
       "      <td>27.0</td>\n",
       "      <td>Tân Bình</td>\n",
       "      <td>Hồ Chí Minh</td>\n",
       "      <td>\\r\\n06/10/2018</td>\n",
       "    </tr>\n",
       "    <tr>\n",
       "      <th>789361</th>\n",
       "      <td>Phòng cho thuê giá rẻ, Quận Gò Vấp gần chung c...</td>\n",
       "      <td>1.7</td>\n",
       "      <td>12.0</td>\n",
       "      <td>Gò Vấp</td>\n",
       "      <td>Hồ Chí Minh</td>\n",
       "      <td>\\r\\n09/10/2018</td>\n",
       "    </tr>\n",
       "    <tr>\n",
       "      <th>...</th>\n",
       "      <td>...</td>\n",
       "      <td>...</td>\n",
       "      <td>...</td>\n",
       "      <td>...</td>\n",
       "      <td>...</td>\n",
       "      <td>...</td>\n",
       "    </tr>\n",
       "    <tr>\n",
       "      <th>2119311</th>\n",
       "      <td>Cho thuê phòng ĐẸP 16m2 đường Thành Thái-Q10, ...</td>\n",
       "      <td>5.0</td>\n",
       "      <td>16.0</td>\n",
       "      <td>Quận 10</td>\n",
       "      <td>Hồ Chí Minh</td>\n",
       "      <td>\\r\\n25/11/2022</td>\n",
       "    </tr>\n",
       "    <tr>\n",
       "      <th>2122158</th>\n",
       "      <td>Thuê phòng 2.5 triệu 20m2 căn bìa tầng trệt gầ...</td>\n",
       "      <td>2.5</td>\n",
       "      <td>20.0</td>\n",
       "      <td>Quận 4</td>\n",
       "      <td>Hồ Chí Minh</td>\n",
       "      <td>\\r\\n29/11/2022</td>\n",
       "    </tr>\n",
       "    <tr>\n",
       "      <th>2127186</th>\n",
       "      <td>Cho thuê mặt bằng KD và phòng trọ số 36/66 Ngu...</td>\n",
       "      <td>2.0</td>\n",
       "      <td>6.0</td>\n",
       "      <td>Bình Thạnh</td>\n",
       "      <td>Hồ Chí Minh</td>\n",
       "      <td>\\r\\n07/12/2022</td>\n",
       "    </tr>\n",
       "    <tr>\n",
       "      <th>2127880</th>\n",
       "      <td>Phòng nội thất cao cấp ưu tiên nữ, gần vòng xo...</td>\n",
       "      <td>2.9</td>\n",
       "      <td>22.0</td>\n",
       "      <td>Tân Phú</td>\n",
       "      <td>Hồ Chí Minh</td>\n",
       "      <td>\\r\\n08/12/2022</td>\n",
       "    </tr>\n",
       "    <tr>\n",
       "      <th>2127970</th>\n",
       "      <td>Nhà Cho Thuê RỘNG RÃI - THOÁNG MÁT - AN NINH -...</td>\n",
       "      <td>3.5</td>\n",
       "      <td>52.5</td>\n",
       "      <td>Quận 9</td>\n",
       "      <td>Hồ Chí Minh</td>\n",
       "      <td>\\r\\n08/12/2022</td>\n",
       "    </tr>\n",
       "  </tbody>\n",
       "</table>\n",
       "<p>1185 rows × 6 columns</p>\n",
       "</div>"
      ],
      "text/plain": [
       "                                                     Title  \\\n",
       "Id                                                           \n",
       "478324   Cho thuê phòng để ở tại 108/64A1 Trần Quang Di...   \n",
       "728993   Phòng vừa xây xong thoáng mát gần các trường Đ...   \n",
       "781296   Cần share lại gấp phòng trọ mới thuê tại đường...   \n",
       "781448   Chính chủ cho thuê căn hộ dịch vụ gần sân bay ...   \n",
       "789361   Phòng cho thuê giá rẻ, Quận Gò Vấp gần chung c...   \n",
       "...                                                    ...   \n",
       "2119311  Cho thuê phòng ĐẸP 16m2 đường Thành Thái-Q10, ...   \n",
       "2122158  Thuê phòng 2.5 triệu 20m2 căn bìa tầng trệt gầ...   \n",
       "2127186  Cho thuê mặt bằng KD và phòng trọ số 36/66 Ngu...   \n",
       "2127880  Phòng nội thất cao cấp ưu tiên nữ, gần vòng xo...   \n",
       "2127970  Nhà Cho Thuê RỘNG RÃI - THOÁNG MÁT - AN NINH -...   \n",
       "\n",
       "         Price(Triệu/tháng)  Square(m²)    District         City  \\\n",
       "Id                                                                 \n",
       "478324                  3.5        18.0      Quận 3  Hồ Chí Minh   \n",
       "728993                  3.3        25.0      Quận 7  Hồ Chí Minh   \n",
       "781296                  3.0        15.0     Quận 10  Hồ Chí Minh   \n",
       "781448                  7.0        27.0    Tân Bình  Hồ Chí Minh   \n",
       "789361                  1.7        12.0      Gò Vấp  Hồ Chí Minh   \n",
       "...                     ...         ...         ...          ...   \n",
       "2119311                 5.0        16.0     Quận 10  Hồ Chí Minh   \n",
       "2122158                 2.5        20.0      Quận 4  Hồ Chí Minh   \n",
       "2127186                 2.0         6.0  Bình Thạnh  Hồ Chí Minh   \n",
       "2127880                 2.9        22.0     Tân Phú  Hồ Chí Minh   \n",
       "2127970                 3.5        52.5      Quận 9  Hồ Chí Minh   \n",
       "\n",
       "                    Date  \n",
       "Id                        \n",
       "478324   \\r\\n20/06/2020   \n",
       "728993   \\r\\n17/10/2018   \n",
       "781296   \\r\\n05/10/2018   \n",
       "781448   \\r\\n06/10/2018   \n",
       "789361   \\r\\n09/10/2018   \n",
       "...                  ...  \n",
       "2119311  \\r\\n25/11/2022   \n",
       "2122158  \\r\\n29/11/2022   \n",
       "2127186  \\r\\n07/12/2022   \n",
       "2127880  \\r\\n08/12/2022   \n",
       "2127970  \\r\\n08/12/2022   \n",
       "\n",
       "[1185 rows x 6 columns]"
      ]
     },
     "execution_count": 82,
     "metadata": {},
     "output_type": "execute_result"
    }
   ],
   "source": [
    "df_info"
   ]
  },
  {
   "cell_type": "markdown",
   "metadata": {},
   "source": [
    "df_info.rename()"
   ]
  },
  {
   "attachments": {},
   "cell_type": "markdown",
   "metadata": {},
   "source": [
    "----------"
   ]
  },
  {
   "cell_type": "code",
   "execution_count": 83,
   "metadata": {},
   "outputs": [
    {
     "data": {
      "text/plain": [
       "Id\n",
       "478324     \\r\\n20/06/2020 \n",
       "728993     \\r\\n17/10/2018 \n",
       "781296     \\r\\n05/10/2018 \n",
       "781448     \\r\\n06/10/2018 \n",
       "789361     \\r\\n09/10/2018 \n",
       "                ...       \n",
       "2119311    \\r\\n25/11/2022 \n",
       "2122158    \\r\\n29/11/2022 \n",
       "2127186    \\r\\n07/12/2022 \n",
       "2127880    \\r\\n08/12/2022 \n",
       "2127970    \\r\\n08/12/2022 \n",
       "Name: Date, Length: 1185, dtype: object"
      ]
     },
     "execution_count": 83,
     "metadata": {},
     "output_type": "execute_result"
    }
   ],
   "source": [
    "df_info['Date']"
   ]
  },
  {
   "attachments": {},
   "cell_type": "markdown",
   "metadata": {},
   "source": [
    "Ta thấy dữ liệu dư ký tự '\\n' và '\\r'. Xóa bỏ chúng và đưa về dạng dữ liệu datetime.\n",
    "\n",
    "Need to delete the extra character '\\n' và '\\r'. Let's drop them and convert their types of data to datetime."
   ]
  },
  {
   "cell_type": "code",
   "execution_count": 84,
   "metadata": {},
   "outputs": [],
   "source": [
    "df_info['Date']=df_info['Date'].str.replace('\\r\\n','')\n",
    "df_info['Date']=df_info['Date'].str.replace(' ','')\n",
    "df_info['Date']=pd.to_datetime(df_info['Date'],format = \"%d/%m/%Y\",errors = 'raise')"
   ]
  },
  {
   "cell_type": "code",
   "execution_count": 85,
   "metadata": {},
   "outputs": [
    {
     "name": "stdout",
     "output_type": "stream",
     "text": [
      "2020-06-20 00:00:00\n"
     ]
    }
   ],
   "source": [
    "print(df_info.loc[478324, 'Date'])"
   ]
  },
  {
   "attachments": {},
   "cell_type": "markdown",
   "metadata": {},
   "source": [
    "## PROCESS NAN DATA"
   ]
  },
  {
   "cell_type": "code",
   "execution_count": 86,
   "metadata": {},
   "outputs": [
    {
     "data": {
      "text/plain": [
       "Title                  0\n",
       "Price(Triệu/tháng)     8\n",
       "Square(m²)            38\n",
       "District               0\n",
       "City                   0\n",
       "Date                   0\n",
       "dtype: int64"
      ]
     },
     "execution_count": 86,
     "metadata": {},
     "output_type": "execute_result"
    }
   ],
   "source": [
    "df_info.isnull().sum()"
   ]
  },
  {
   "attachments": {},
   "cell_type": "markdown",
   "metadata": {},
   "source": [
    "Several ways to handle missing or nan (not a number) data:\n",
    "1. Drop the rows with NaN values.\n",
    "2. Replace that number with a specific value mean, median or mode...\n",
    "3. Use ML model to predict the missing value.\n",
    "4. Ignore it in analysis.\n",
    "5. Use data imputation technique like mean imputation, median imputation, etc.\n",
    "6. Use KNN to impute missing value\n",
    "7. Use regression imputation\n",
    "\n",
    "Imputation is a statistical technique for replacing missing values in a dataset with estimated values"
   ]
  },
  {
   "attachments": {},
   "cell_type": "markdown",
   "metadata": {},
   "source": [
    "Không thể nào biết được Price và Square của một nơi bất kỳ được (khó đoán). Vậy nên ta sẽ drop chúng\n",
    "\n",
    "No ways to know the right price and square of a place (Too hard). Let's drop them."
   ]
  },
  {
   "cell_type": "code",
   "execution_count": 87,
   "metadata": {},
   "outputs": [],
   "source": [
    "df_info.dropna(inplace=True)"
   ]
  },
  {
   "cell_type": "code",
   "execution_count": 88,
   "metadata": {},
   "outputs": [
    {
     "data": {
      "text/plain": [
       "Title                 0\n",
       "Price(Triệu/tháng)    0\n",
       "Square(m²)            0\n",
       "District              0\n",
       "City                  0\n",
       "Date                  0\n",
       "dtype: int64"
      ]
     },
     "execution_count": 88,
     "metadata": {},
     "output_type": "execute_result"
    }
   ],
   "source": [
    "df_info.isnull().sum()"
   ]
  },
  {
   "attachments": {},
   "cell_type": "markdown",
   "metadata": {},
   "source": [
    "## OUTLIERS"
   ]
  },
  {
   "attachments": {},
   "cell_type": "markdown",
   "metadata": {},
   "source": [
    "Draw boxplot chart to see price and square outliers"
   ]
  },
  {
   "cell_type": "code",
   "execution_count": 89,
   "metadata": {},
   "outputs": [],
   "source": [
    "def boxplot_chart(col):\n",
    "   fig = plt.figure(figsize=(6,5))\n",
    "   sns.boxenplot(df_info[col])\n",
    "   plt.title(f'{col} - boxplot chart')\n",
    "   plt.show()"
   ]
  },
  {
   "cell_type": "code",
   "execution_count": 90,
   "metadata": {},
   "outputs": [
    {
     "name": "stderr",
     "output_type": "stream",
     "text": [
      "c:\\Users\\laito\\anaconda3\\lib\\site-packages\\seaborn\\_decorators.py:36: FutureWarning: Pass the following variable as a keyword arg: x. From version 0.12, the only valid positional argument will be `data`, and passing other arguments without an explicit keyword will result in an error or misinterpretation.\n",
      "  warnings.warn(\n"
     ]
    },
    {
     "data": {
      "image/png": "[encoded data removed]",
      "text/plain": [
       "<Figure size 600x500 with 1 Axes>"
      ]
     },
     "metadata": {},
     "output_type": "display_data"
    }
   ],
   "source": [
    "boxplot_chart('Price(Triệu/tháng)')\n"
   ]
  },
  {
   "attachments": {},
   "cell_type": "markdown",
   "metadata": {},
   "source": [
    "Ta thấy các ouliers đều lớn hơn hoặc bằng 500 triệu. Thử in chúng ra nhó\n",
    "\n",
    "So many outliers is more than 500 mil. Let's print them  out"
   ]
  },
  {
   "cell_type": "code",
   "execution_count": 91,
   "metadata": {},
   "outputs": [
    {
     "data": {
      "text/html": [
       "<div>\n",
       "<style scoped>\n",
       "    .dataframe tbody tr th:only-of-type {\n",
       "        vertical-align: middle;\n",
       "    }\n",
       "\n",
       "    .dataframe tbody tr th {\n",
       "        vertical-align: top;\n",
       "    }\n",
       "\n",
       "    .dataframe thead th {\n",
       "        text-align: right;\n",
       "    }\n",
       "</style>\n",
       "<table border=\"1\" class=\"dataframe\">\n",
       "  <thead>\n",
       "    <tr style=\"text-align: right;\">\n",
       "      <th></th>\n",
       "      <th>Title</th>\n",
       "      <th>Price(Triệu/tháng)</th>\n",
       "      <th>Square(m²)</th>\n",
       "      <th>District</th>\n",
       "      <th>City</th>\n",
       "      <th>Date</th>\n",
       "    </tr>\n",
       "    <tr>\n",
       "      <th>Id</th>\n",
       "      <th></th>\n",
       "      <th></th>\n",
       "      <th></th>\n",
       "      <th></th>\n",
       "      <th></th>\n",
       "      <th></th>\n",
       "    </tr>\n",
       "  </thead>\n",
       "  <tbody>\n",
       "    <tr>\n",
       "      <th>841207</th>\n",
       "      <td>Cho thuê phòng quận 4 đường vân đồn giáp quận ...</td>\n",
       "      <td>3500.0</td>\n",
       "      <td>45.0</td>\n",
       "      <td>Quận 4</td>\n",
       "      <td>Hồ Chí Minh</td>\n",
       "      <td>2018-10-15</td>\n",
       "    </tr>\n",
       "    <tr>\n",
       "      <th>1441460</th>\n",
       "      <td>Phòng quận 5 cho thuê, giờ tự do, được nấu ăn ...</td>\n",
       "      <td>1200000.0</td>\n",
       "      <td>22.0</td>\n",
       "      <td>Quận 5</td>\n",
       "      <td>Hồ Chí Minh</td>\n",
       "      <td>2019-03-10</td>\n",
       "    </tr>\n",
       "    <tr>\n",
       "      <th>1450703</th>\n",
       "      <td>Cho thuê phòng trọ 27m2 đường Nguyễn Khoái, Ph...</td>\n",
       "      <td>3000000.0</td>\n",
       "      <td>27.0</td>\n",
       "      <td>Quận 4</td>\n",
       "      <td>Hồ Chí Minh</td>\n",
       "      <td>2019-05-09</td>\n",
       "    </tr>\n",
       "    <tr>\n",
       "      <th>1478477</th>\n",
       "      <td>Phòng trọ cho thuê,giá 1tr6/tháng.phòng riêng,...</td>\n",
       "      <td>1600000.0</td>\n",
       "      <td>16.0</td>\n",
       "      <td>Gò Vấp</td>\n",
       "      <td>Hồ Chí Minh</td>\n",
       "      <td>2019-09-06</td>\n",
       "    </tr>\n",
       "    <tr>\n",
       "      <th>1479914</th>\n",
       "      <td>Phòng trọ cho thuê đường nguyễn ảnh thủ quận 1...</td>\n",
       "      <td>1500000.0</td>\n",
       "      <td>18.0</td>\n",
       "      <td>Quận 12</td>\n",
       "      <td>Hồ Chí Minh</td>\n",
       "      <td>2019-09-11</td>\n",
       "    </tr>\n",
       "  </tbody>\n",
       "</table>\n",
       "</div>"
      ],
      "text/plain": [
       "                                                     Title  \\\n",
       "Id                                                           \n",
       "841207   Cho thuê phòng quận 4 đường vân đồn giáp quận ...   \n",
       "1441460  Phòng quận 5 cho thuê, giờ tự do, được nấu ăn ...   \n",
       "1450703  Cho thuê phòng trọ 27m2 đường Nguyễn Khoái, Ph...   \n",
       "1478477  Phòng trọ cho thuê,giá 1tr6/tháng.phòng riêng,...   \n",
       "1479914  Phòng trọ cho thuê đường nguyễn ảnh thủ quận 1...   \n",
       "\n",
       "         Price(Triệu/tháng)  Square(m²) District         City       Date  \n",
       "Id                                                                        \n",
       "841207               3500.0        45.0   Quận 4  Hồ Chí Minh 2018-10-15  \n",
       "1441460           1200000.0        22.0   Quận 5  Hồ Chí Minh 2019-03-10  \n",
       "1450703           3000000.0        27.0   Quận 4  Hồ Chí Minh 2019-05-09  \n",
       "1478477           1600000.0        16.0   Gò Vấp  Hồ Chí Minh 2019-09-06  \n",
       "1479914           1500000.0        18.0  Quận 12  Hồ Chí Minh 2019-09-11  "
      ]
     },
     "execution_count": 91,
     "metadata": {},
     "output_type": "execute_result"
    }
   ],
   "source": [
    "outliers_price = df_info[df_info['Price(Triệu/tháng)'] > 500]\n",
    "outliers_price"
   ]
  },
  {
   "attachments": {},
   "cell_type": "markdown",
   "metadata": {},
   "source": [
    "Nguyên nhân có outliers này là do chủ nhà nhập nhầm giá tiền, cùng chỉnh sửa lại nhé với giá trị đúng của nó là một số nhỏ hơn 10.\n",
    "\n",
    "The reason why has so many outliers is the owner inputted the wrong price. So let's fix it with a right price is less than 10"
   ]
  },
  {
   "cell_type": "code",
   "execution_count": 92,
   "metadata": {},
   "outputs": [],
   "source": [
    "for i in outliers_price.index:\n",
    "   while outliers_price.loc[i, 'Price(Triệu/tháng)'] > 10:\n",
    "      outliers_price.loc[i, 'Price(Triệu/tháng)'] /= 10\n",
    "   "
   ]
  },
  {
   "cell_type": "code",
   "execution_count": 93,
   "metadata": {},
   "outputs": [
    {
     "data": {
      "text/html": [
       "<div>\n",
       "<style scoped>\n",
       "    .dataframe tbody tr th:only-of-type {\n",
       "        vertical-align: middle;\n",
       "    }\n",
       "\n",
       "    .dataframe tbody tr th {\n",
       "        vertical-align: top;\n",
       "    }\n",
       "\n",
       "    .dataframe thead th {\n",
       "        text-align: right;\n",
       "    }\n",
       "</style>\n",
       "<table border=\"1\" class=\"dataframe\">\n",
       "  <thead>\n",
       "    <tr style=\"text-align: right;\">\n",
       "      <th></th>\n",
       "      <th>Title</th>\n",
       "      <th>Price(Triệu/tháng)</th>\n",
       "      <th>Square(m²)</th>\n",
       "      <th>District</th>\n",
       "      <th>City</th>\n",
       "      <th>Date</th>\n",
       "    </tr>\n",
       "    <tr>\n",
       "      <th>Id</th>\n",
       "      <th></th>\n",
       "      <th></th>\n",
       "      <th></th>\n",
       "      <th></th>\n",
       "      <th></th>\n",
       "      <th></th>\n",
       "    </tr>\n",
       "  </thead>\n",
       "  <tbody>\n",
       "    <tr>\n",
       "      <th>841207</th>\n",
       "      <td>Cho thuê phòng quận 4 đường vân đồn giáp quận ...</td>\n",
       "      <td>3.5</td>\n",
       "      <td>45.0</td>\n",
       "      <td>Quận 4</td>\n",
       "      <td>Hồ Chí Minh</td>\n",
       "      <td>2018-10-15</td>\n",
       "    </tr>\n",
       "    <tr>\n",
       "      <th>1441460</th>\n",
       "      <td>Phòng quận 5 cho thuê, giờ tự do, được nấu ăn ...</td>\n",
       "      <td>1.2</td>\n",
       "      <td>22.0</td>\n",
       "      <td>Quận 5</td>\n",
       "      <td>Hồ Chí Minh</td>\n",
       "      <td>2019-03-10</td>\n",
       "    </tr>\n",
       "    <tr>\n",
       "      <th>1450703</th>\n",
       "      <td>Cho thuê phòng trọ 27m2 đường Nguyễn Khoái, Ph...</td>\n",
       "      <td>3.0</td>\n",
       "      <td>27.0</td>\n",
       "      <td>Quận 4</td>\n",
       "      <td>Hồ Chí Minh</td>\n",
       "      <td>2019-05-09</td>\n",
       "    </tr>\n",
       "    <tr>\n",
       "      <th>1478477</th>\n",
       "      <td>Phòng trọ cho thuê,giá 1tr6/tháng.phòng riêng,...</td>\n",
       "      <td>1.6</td>\n",
       "      <td>16.0</td>\n",
       "      <td>Gò Vấp</td>\n",
       "      <td>Hồ Chí Minh</td>\n",
       "      <td>2019-09-06</td>\n",
       "    </tr>\n",
       "    <tr>\n",
       "      <th>1479914</th>\n",
       "      <td>Phòng trọ cho thuê đường nguyễn ảnh thủ quận 1...</td>\n",
       "      <td>1.5</td>\n",
       "      <td>18.0</td>\n",
       "      <td>Quận 12</td>\n",
       "      <td>Hồ Chí Minh</td>\n",
       "      <td>2019-09-11</td>\n",
       "    </tr>\n",
       "  </tbody>\n",
       "</table>\n",
       "</div>"
      ],
      "text/plain": [
       "                                                     Title  \\\n",
       "Id                                                           \n",
       "841207   Cho thuê phòng quận 4 đường vân đồn giáp quận ...   \n",
       "1441460  Phòng quận 5 cho thuê, giờ tự do, được nấu ăn ...   \n",
       "1450703  Cho thuê phòng trọ 27m2 đường Nguyễn Khoái, Ph...   \n",
       "1478477  Phòng trọ cho thuê,giá 1tr6/tháng.phòng riêng,...   \n",
       "1479914  Phòng trọ cho thuê đường nguyễn ảnh thủ quận 1...   \n",
       "\n",
       "         Price(Triệu/tháng)  Square(m²) District         City       Date  \n",
       "Id                                                                        \n",
       "841207                  3.5        45.0   Quận 4  Hồ Chí Minh 2018-10-15  \n",
       "1441460                 1.2        22.0   Quận 5  Hồ Chí Minh 2019-03-10  \n",
       "1450703                 3.0        27.0   Quận 4  Hồ Chí Minh 2019-05-09  \n",
       "1478477                 1.6        16.0   Gò Vấp  Hồ Chí Minh 2019-09-06  \n",
       "1479914                 1.5        18.0  Quận 12  Hồ Chí Minh 2019-09-11  "
      ]
     },
     "execution_count": 93,
     "metadata": {},
     "output_type": "execute_result"
    }
   ],
   "source": [
    "outliers_price"
   ]
  },
  {
   "attachments": {},
   "cell_type": "markdown",
   "metadata": {},
   "source": [
    "Update vào df_info thui nào."
   ]
  },
  {
   "cell_type": "code",
   "execution_count": 94,
   "metadata": {},
   "outputs": [],
   "source": [
    "df_info.loc[outliers_price.index, 'Price(Triệu/tháng)'] = outliers_price.loc[outliers_price.index, 'Price(Triệu/tháng)']"
   ]
  },
  {
   "cell_type": "code",
   "execution_count": 95,
   "metadata": {},
   "outputs": [
    {
     "data": {
      "text/plain": [
       "Id\n",
       "841207     3.5\n",
       "1441460    1.2\n",
       "1450703    3.0\n",
       "1478477    1.6\n",
       "1479914    1.5\n",
       "Name: Price(Triệu/tháng), dtype: float64"
      ]
     },
     "execution_count": 95,
     "metadata": {},
     "output_type": "execute_result"
    }
   ],
   "source": [
    "df_info.loc[outliers_price.index, 'Price(Triệu/tháng)']\n",
    "# Update successful"
   ]
  },
  {
   "cell_type": "code",
   "execution_count": 111,
   "metadata": {},
   "outputs": [
    {
     "name": "stderr",
     "output_type": "stream",
     "text": [
      "c:\\Users\\laito\\anaconda3\\lib\\site-packages\\seaborn\\_decorators.py:36: FutureWarning: Pass the following variable as a keyword arg: x. From version 0.12, the only valid positional argument will be `data`, and passing other arguments without an explicit keyword will result in an error or misinterpretation.\n",
      "  warnings.warn(\n"
     ]
    },
    {
     "data": {
      "image/png": "[encoded data removed]",
      "text/plain": [
       "<Figure size 600x500 with 1 Axes>"
      ]
     },
     "metadata": {},
     "output_type": "display_data"
    }
   ],
   "source": [
    "# Draw again\n",
    "boxplot_chart('Price(Triệu/tháng)')"
   ]
  },
  {
   "attachments": {},
   "cell_type": "markdown",
   "metadata": {},
   "source": [
    "Still have outliers more than 50. Keep doing it."
   ]
  },
  {
   "cell_type": "code",
   "execution_count": 97,
   "metadata": {},
   "outputs": [
    {
     "data": {
      "text/html": [
       "<div>\n",
       "<style scoped>\n",
       "    .dataframe tbody tr th:only-of-type {\n",
       "        vertical-align: middle;\n",
       "    }\n",
       "\n",
       "    .dataframe tbody tr th {\n",
       "        vertical-align: top;\n",
       "    }\n",
       "\n",
       "    .dataframe thead th {\n",
       "        text-align: right;\n",
       "    }\n",
       "</style>\n",
       "<table border=\"1\" class=\"dataframe\">\n",
       "  <thead>\n",
       "    <tr style=\"text-align: right;\">\n",
       "      <th></th>\n",
       "      <th>Title</th>\n",
       "      <th>Price(Triệu/tháng)</th>\n",
       "      <th>Square(m²)</th>\n",
       "      <th>District</th>\n",
       "      <th>City</th>\n",
       "      <th>Date</th>\n",
       "    </tr>\n",
       "    <tr>\n",
       "      <th>Id</th>\n",
       "      <th></th>\n",
       "      <th></th>\n",
       "      <th></th>\n",
       "      <th></th>\n",
       "      <th></th>\n",
       "      <th></th>\n",
       "    </tr>\n",
       "  </thead>\n",
       "  <tbody>\n",
       "    <tr>\n",
       "      <th>1518936</th>\n",
       "      <td>Cần sang hoặc cho thuê khách sạn một trệt ba l...</td>\n",
       "      <td>350.000</td>\n",
       "      <td>120.0</td>\n",
       "      <td>Quận 1</td>\n",
       "      <td>Hồ Chí Minh</td>\n",
       "      <td>2019-12-19</td>\n",
       "    </tr>\n",
       "    <tr>\n",
       "      <th>1518942</th>\n",
       "      <td>Cần sang GẤP hoặc cho thuê khách sạn một trệt ...</td>\n",
       "      <td>350.000</td>\n",
       "      <td>120.0</td>\n",
       "      <td>Quận 1</td>\n",
       "      <td>Hồ Chí Minh</td>\n",
       "      <td>2019-12-19</td>\n",
       "    </tr>\n",
       "    <tr>\n",
       "      <th>1565755</th>\n",
       "      <td>Q7, cầu Tân Thuận 1, Phòng full nội thất, khai...</td>\n",
       "      <td>50.005</td>\n",
       "      <td>25.0</td>\n",
       "      <td>Quận 7</td>\n",
       "      <td>Hồ Chí Minh</td>\n",
       "      <td>2020-05-20</td>\n",
       "    </tr>\n",
       "    <tr>\n",
       "      <th>1611533</th>\n",
       "      <td>COVID làm khủng hoảng kinh tế nên tôi cần về q...</td>\n",
       "      <td>305.000</td>\n",
       "      <td>100.0</td>\n",
       "      <td>Nhà Bè</td>\n",
       "      <td>Hồ Chí Minh</td>\n",
       "      <td>2020-08-30</td>\n",
       "    </tr>\n",
       "    <tr>\n",
       "      <th>1820919</th>\n",
       "      <td>Sang Gấp Căn Nhà Trọ 11P, 1MB Giá rẻ 60 tr bao...</td>\n",
       "      <td>60.000</td>\n",
       "      <td>112.0</td>\n",
       "      <td>Tân Bình</td>\n",
       "      <td>Hồ Chí Minh</td>\n",
       "      <td>2021-08-06</td>\n",
       "    </tr>\n",
       "  </tbody>\n",
       "</table>\n",
       "</div>"
      ],
      "text/plain": [
       "                                                     Title  \\\n",
       "Id                                                           \n",
       "1518936  Cần sang hoặc cho thuê khách sạn một trệt ba l...   \n",
       "1518942  Cần sang GẤP hoặc cho thuê khách sạn một trệt ...   \n",
       "1565755  Q7, cầu Tân Thuận 1, Phòng full nội thất, khai...   \n",
       "1611533  COVID làm khủng hoảng kinh tế nên tôi cần về q...   \n",
       "1820919  Sang Gấp Căn Nhà Trọ 11P, 1MB Giá rẻ 60 tr bao...   \n",
       "\n",
       "         Price(Triệu/tháng)  Square(m²)  District         City       Date  \n",
       "Id                                                                         \n",
       "1518936             350.000       120.0    Quận 1  Hồ Chí Minh 2019-12-19  \n",
       "1518942             350.000       120.0    Quận 1  Hồ Chí Minh 2019-12-19  \n",
       "1565755              50.005        25.0    Quận 7  Hồ Chí Minh 2020-05-20  \n",
       "1611533             305.000       100.0    Nhà Bè  Hồ Chí Minh 2020-08-30  \n",
       "1820919              60.000       112.0  Tân Bình  Hồ Chí Minh 2021-08-06  "
      ]
     },
     "execution_count": 97,
     "metadata": {},
     "output_type": "execute_result"
    }
   ],
   "source": [
    "outliers_price = df_info[df_info['Price(Triệu/tháng)'] > 50]\n",
    "outliers_price"
   ]
  },
  {
   "attachments": {},
   "cell_type": "markdown",
   "metadata": {},
   "source": [
    "Tại sao lại có những giá như này nhỉ? Đoán là giá này là giá bán chứ không phải giá thuê. Thế nên drop chúng luôn nhó."
   ]
  },
  {
   "cell_type": "code",
   "execution_count": 99,
   "metadata": {},
   "outputs": [],
   "source": [
    "df_info.drop(index = outliers_price.index, inplace = True)"
   ]
  },
  {
   "cell_type": "code",
   "execution_count": 101,
   "metadata": {},
   "outputs": [
    {
     "name": "stderr",
     "output_type": "stream",
     "text": [
      "c:\\Users\\laito\\anaconda3\\lib\\site-packages\\seaborn\\_decorators.py:36: FutureWarning: Pass the following variable as a keyword arg: x. From version 0.12, the only valid positional argument will be `data`, and passing other arguments without an explicit keyword will result in an error or misinterpretation.\n",
      "  warnings.warn(\n"
     ]
    },
    {
     "data": {
      "image/png": "[encoded data removed]",
      "text/plain": [
       "<Figure size 600x500 with 1 Axes>"
      ]
     },
     "metadata": {},
     "output_type": "display_data"
    }
   ],
   "source": [
    "# Vẽ lại lần nữa nàoo\n",
    "boxplot_chart('Price(Triệu/tháng)')"
   ]
  },
  {
   "attachments": {},
   "cell_type": "markdown",
   "metadata": {},
   "source": [
    "------"
   ]
  },
  {
   "cell_type": "code",
   "execution_count": 98,
   "metadata": {},
   "outputs": [
    {
     "name": "stderr",
     "output_type": "stream",
     "text": [
      "c:\\Users\\laito\\anaconda3\\lib\\site-packages\\seaborn\\_decorators.py:36: FutureWarning: Pass the following variable as a keyword arg: x. From version 0.12, the only valid positional argument will be `data`, and passing other arguments without an explicit keyword will result in an error or misinterpretation.\n",
      "  warnings.warn(\n"
     ]
    },
    {
     "data": {
      "image/png": "[encoded data removed]",
      "text/plain": [
       "<Figure size 600x500 with 1 Axes>"
      ]
     },
     "metadata": {},
     "output_type": "display_data"
    }
   ],
   "source": [
    "boxplot_chart('Square(m²)')"
   ]
  },
  {
   "attachments": {},
   "cell_type": "markdown",
   "metadata": {},
   "source": [
    "So many outliers more than 175"
   ]
  },
  {
   "cell_type": "code",
   "execution_count": 106,
   "metadata": {},
   "outputs": [
    {
     "data": {
      "text/html": [
       "<div>\n",
       "<style scoped>\n",
       "    .dataframe tbody tr th:only-of-type {\n",
       "        vertical-align: middle;\n",
       "    }\n",
       "\n",
       "    .dataframe tbody tr th {\n",
       "        vertical-align: top;\n",
       "    }\n",
       "\n",
       "    .dataframe thead th {\n",
       "        text-align: right;\n",
       "    }\n",
       "</style>\n",
       "<table border=\"1\" class=\"dataframe\">\n",
       "  <thead>\n",
       "    <tr style=\"text-align: right;\">\n",
       "      <th></th>\n",
       "      <th>Title</th>\n",
       "      <th>Price(Triệu/tháng)</th>\n",
       "      <th>Square(m²)</th>\n",
       "      <th>District</th>\n",
       "      <th>City</th>\n",
       "      <th>Date</th>\n",
       "    </tr>\n",
       "    <tr>\n",
       "      <th>Id</th>\n",
       "      <th></th>\n",
       "      <th></th>\n",
       "      <th></th>\n",
       "      <th></th>\n",
       "      <th></th>\n",
       "      <th></th>\n",
       "    </tr>\n",
       "  </thead>\n",
       "  <tbody>\n",
       "    <tr>\n",
       "      <th>1491943</th>\n",
       "      <td>Ký túc xá máy lạnh giá chỉ 450k/tháng đủ nội t...</td>\n",
       "      <td>0.45</td>\n",
       "      <td>190.0</td>\n",
       "      <td>Quận 8</td>\n",
       "      <td>Hồ Chí Minh</td>\n",
       "      <td>2020-06-07</td>\n",
       "    </tr>\n",
       "    <tr>\n",
       "      <th>1589500</th>\n",
       "      <td>Cho thuê KTX Homestay cao cấp quận Thủ Đức</td>\n",
       "      <td>1.60</td>\n",
       "      <td>250.0</td>\n",
       "      <td>Thủ Đức</td>\n",
       "      <td>Hồ Chí Minh</td>\n",
       "      <td>2021-01-13</td>\n",
       "    </tr>\n",
       "    <tr>\n",
       "      <th>1722247</th>\n",
       "      <td>Cho thuê KTX Homestay Q.Thủ Đức giá rẻ 1 triệu...</td>\n",
       "      <td>1.00</td>\n",
       "      <td>250.0</td>\n",
       "      <td>Thủ Đức</td>\n",
       "      <td>Hồ Chí Minh</td>\n",
       "      <td>2021-01-13</td>\n",
       "    </tr>\n",
       "    <tr>\n",
       "      <th>1775448</th>\n",
       "      <td>Cho thuê giường KTX trung tâm Phú Nhuận Gía 1.6tr</td>\n",
       "      <td>1.60</td>\n",
       "      <td>400.0</td>\n",
       "      <td>Phú Nhuận</td>\n",
       "      <td>Hồ Chí Minh</td>\n",
       "      <td>2021-05-19</td>\n",
       "    </tr>\n",
       "  </tbody>\n",
       "</table>\n",
       "</div>"
      ],
      "text/plain": [
       "                                                     Title  \\\n",
       "Id                                                           \n",
       "1491943  Ký túc xá máy lạnh giá chỉ 450k/tháng đủ nội t...   \n",
       "1589500         Cho thuê KTX Homestay cao cấp quận Thủ Đức   \n",
       "1722247  Cho thuê KTX Homestay Q.Thủ Đức giá rẻ 1 triệu...   \n",
       "1775448  Cho thuê giường KTX trung tâm Phú Nhuận Gía 1.6tr   \n",
       "\n",
       "         Price(Triệu/tháng)  Square(m²)   District         City       Date  \n",
       "Id                                                                          \n",
       "1491943                0.45       190.0     Quận 8  Hồ Chí Minh 2020-06-07  \n",
       "1589500                1.60       250.0    Thủ Đức  Hồ Chí Minh 2021-01-13  \n",
       "1722247                1.00       250.0    Thủ Đức  Hồ Chí Minh 2021-01-13  \n",
       "1775448                1.60       400.0  Phú Nhuận  Hồ Chí Minh 2021-05-19  "
      ]
     },
     "execution_count": 106,
     "metadata": {},
     "output_type": "execute_result"
    }
   ],
   "source": [
    "outliers_square = df_info[df_info['Square(m²)'] > 175]\n",
    "outliers_square"
   ]
  },
  {
   "attachments": {},
   "cell_type": "markdown",
   "metadata": {},
   "source": [
    "Have 4/5 data rows above is related to dorm. One left is about a rented room near Gigamall, but the square is 400 m2 - equal to a house:v. So I will drop the row having nonsense square"
   ]
  },
  {
   "cell_type": "code",
   "execution_count": 105,
   "metadata": {},
   "outputs": [],
   "source": [
    "df_info.drop(index=1722246, inplace=True)"
   ]
  },
  {
   "attachments": {},
   "cell_type": "markdown",
   "metadata": {},
   "source": [
    "-----"
   ]
  },
  {
   "attachments": {},
   "cell_type": "markdown",
   "metadata": {},
   "source": [
    "## REVIEW DATA"
   ]
  },
  {
   "cell_type": "code",
   "execution_count": 108,
   "metadata": {},
   "outputs": [
    {
     "data": {
      "text/plain": [
       "(1134, 6)"
      ]
     },
     "execution_count": 108,
     "metadata": {},
     "output_type": "execute_result"
    }
   ],
   "source": [
    "df_info.shape"
   ]
  },
  {
   "cell_type": "code",
   "execution_count": 109,
   "metadata": {},
   "outputs": [
    {
     "data": {
      "text/plain": [
       "Title                         object\n",
       "Price(Triệu/tháng)           float64\n",
       "Square(m²)                   float64\n",
       "District                      object\n",
       "City                          object\n",
       "Date                  datetime64[ns]\n",
       "dtype: object"
      ]
     },
     "execution_count": 109,
     "metadata": {},
     "output_type": "execute_result"
    }
   ],
   "source": [
    "df_info.dtypes"
   ]
  },
  {
   "attachments": {},
   "cell_type": "markdown",
   "metadata": {},
   "source": [
    "------"
   ]
  },
  {
   "attachments": {},
   "cell_type": "markdown",
   "metadata": {},
   "source": [
    "Các Cột có thể tính toán sự phân bố là Price(Triệu/tháng) hoặc Square(m2)\n",
    "\n",
    "Tính các giá trị:\n",
    "\n",
    "- Giá trị min\n",
    "- Giá trị lower quartile (phân vị 25)\n",
    "- Giá trị median (phân vị 50)\n",
    "- Giá trị upper quartile (phân vị 75)\n",
    "- Giá trị max"
   ]
  },
  {
   "cell_type": "code",
   "execution_count": 179,
   "metadata": {},
   "outputs": [],
   "source": [
    "columns = ['Price(Triệu/tháng)', 'Square(m²)']\n",
    "distribution_table = pd.DataFrame(columns=['Price(Triệu/tháng)', 'Square(m²)'], index=['Min','Lower Quartile',\"Median\", \"Upper Quartile\", \"Interquartile Range\", \"Max\",\"Mean\"])\n",
    "for i in columns:\n",
    "   mini = min(df_info[i].to_list()) #mini = percentile at 0\n",
    "   q1 = np.percentile(df_info[i], 25)\n",
    "   q2 = np.percentile(df_info[i], 50)\n",
    "   q3 = np.percentile(df_info[i], 75)\n",
    "   maxi = max(df_info[i].to_list())\n",
    "   iqr = q3 - q1\n",
    "   mean = np.mean(df_info[i].to_list())\n",
    "   data=[mini, q1, q2, q3, iqr, maxi, mean]\n",
    "   distribution_table[i] = data"
   ]
  },
  {
   "cell_type": "code",
   "execution_count": 177,
   "metadata": {},
   "outputs": [
    {
     "data": {
      "text/html": [
       "<div>\n",
       "<style scoped>\n",
       "    .dataframe tbody tr th:only-of-type {\n",
       "        vertical-align: middle;\n",
       "    }\n",
       "\n",
       "    .dataframe tbody tr th {\n",
       "        vertical-align: top;\n",
       "    }\n",
       "\n",
       "    .dataframe thead th {\n",
       "        text-align: right;\n",
       "    }\n",
       "</style>\n",
       "<table border=\"1\" class=\"dataframe\">\n",
       "  <thead>\n",
       "    <tr style=\"text-align: right;\">\n",
       "      <th></th>\n",
       "      <th>Price(Triệu/tháng)</th>\n",
       "      <th>Square(m²)</th>\n",
       "    </tr>\n",
       "  </thead>\n",
       "  <tbody>\n",
       "    <tr>\n",
       "      <th>Min</th>\n",
       "      <td>0.000000</td>\n",
       "      <td>1.000000</td>\n",
       "    </tr>\n",
       "    <tr>\n",
       "      <th>Lower Quartile</th>\n",
       "      <td>2.000000</td>\n",
       "      <td>18.000000</td>\n",
       "    </tr>\n",
       "    <tr>\n",
       "      <th>Median</th>\n",
       "      <td>3.000000</td>\n",
       "      <td>22.000000</td>\n",
       "    </tr>\n",
       "    <tr>\n",
       "      <th>Upper Quartile</th>\n",
       "      <td>4.000000</td>\n",
       "      <td>30.000000</td>\n",
       "    </tr>\n",
       "    <tr>\n",
       "      <th>Interquartile Range</th>\n",
       "      <td>2.000000</td>\n",
       "      <td>12.000000</td>\n",
       "    </tr>\n",
       "    <tr>\n",
       "      <th>Max</th>\n",
       "      <td>50.000000</td>\n",
       "      <td>400.000000</td>\n",
       "    </tr>\n",
       "    <tr>\n",
       "      <th>Mean</th>\n",
       "      <td>3.617864</td>\n",
       "      <td>26.316623</td>\n",
       "    </tr>\n",
       "  </tbody>\n",
       "</table>\n",
       "</div>"
      ],
      "text/plain": [
       "                     Price(Triệu/tháng)  Square(m²)\n",
       "Min                            0.000000    1.000000\n",
       "Lower Quartile                 2.000000   18.000000\n",
       "Median                         3.000000   22.000000\n",
       "Upper Quartile                 4.000000   30.000000\n",
       "Interquartile Range            2.000000   12.000000\n",
       "Max                           50.000000  400.000000\n",
       "Mean                           3.617864   26.316623"
      ]
     },
     "execution_count": 177,
     "metadata": {},
     "output_type": "execute_result"
    }
   ],
   "source": [
    "distribution_table"
   ]
  },
  {
   "attachments": {},
   "cell_type": "markdown",
   "metadata": {},
   "source": [
    "As we see, the Price has the minimum that is 0 and Square is 1. That’s absolute nonsense. So let's print it out"
   ]
  },
  {
   "cell_type": "code",
   "execution_count": 180,
   "metadata": {},
   "outputs": [
    {
     "data": {
      "text/html": [
       "<div>\n",
       "<style scoped>\n",
       "    .dataframe tbody tr th:only-of-type {\n",
       "        vertical-align: middle;\n",
       "    }\n",
       "\n",
       "    .dataframe tbody tr th {\n",
       "        vertical-align: top;\n",
       "    }\n",
       "\n",
       "    .dataframe thead th {\n",
       "        text-align: right;\n",
       "    }\n",
       "</style>\n",
       "<table border=\"1\" class=\"dataframe\">\n",
       "  <thead>\n",
       "    <tr style=\"text-align: right;\">\n",
       "      <th></th>\n",
       "      <th>Title</th>\n",
       "      <th>Price(Triệu/tháng)</th>\n",
       "      <th>Square(m²)</th>\n",
       "      <th>District</th>\n",
       "      <th>City</th>\n",
       "      <th>Date</th>\n",
       "    </tr>\n",
       "    <tr>\n",
       "      <th>Id</th>\n",
       "      <th></th>\n",
       "      <th></th>\n",
       "      <th></th>\n",
       "      <th></th>\n",
       "      <th></th>\n",
       "      <th></th>\n",
       "    </tr>\n",
       "  </thead>\n",
       "  <tbody>\n",
       "    <tr>\n",
       "      <th>836668</th>\n",
       "      <td>Cho thuê KTX máy lạnh 450k/tháng ở xô viết ngh...</td>\n",
       "      <td>0.450</td>\n",
       "      <td>40.0</td>\n",
       "      <td>Bình Thạnh</td>\n",
       "      <td>Hồ Chí Minh</td>\n",
       "      <td>2018-09-29</td>\n",
       "    </tr>\n",
       "    <tr>\n",
       "      <th>841564</th>\n",
       "      <td>KTX sạch , văn minh (gần KCX Tân thuận ) gi...</td>\n",
       "      <td>0.450</td>\n",
       "      <td>25.0</td>\n",
       "      <td>Quận 7</td>\n",
       "      <td>Hồ Chí Minh</td>\n",
       "      <td>2018-10-09</td>\n",
       "    </tr>\n",
       "    <tr>\n",
       "      <th>841683</th>\n",
       "      <td>Cho thuê phòng ktx máy lạnh 450k/tháng ở D3</td>\n",
       "      <td>0.450</td>\n",
       "      <td>40.0</td>\n",
       "      <td>Bình Thạnh</td>\n",
       "      <td>Hồ Chí Minh</td>\n",
       "      <td>2018-10-01</td>\n",
       "    </tr>\n",
       "    <tr>\n",
       "      <th>844429</th>\n",
       "      <td>Phòng KTX máy lạnh 450K cho thuê ở D3 Bình thạnh</td>\n",
       "      <td>0.450</td>\n",
       "      <td>40.0</td>\n",
       "      <td>Bình Thạnh</td>\n",
       "      <td>Hồ Chí Minh</td>\n",
       "      <td>2018-10-01</td>\n",
       "    </tr>\n",
       "    <tr>\n",
       "      <th>852459</th>\n",
       "      <td>Phòng trọ KTX máy lạnh 450K/THÁNG ở bình thạnh</td>\n",
       "      <td>0.450</td>\n",
       "      <td>40.0</td>\n",
       "      <td>Bình Thạnh</td>\n",
       "      <td>Hồ Chí Minh</td>\n",
       "      <td>2018-10-01</td>\n",
       "    </tr>\n",
       "    <tr>\n",
       "      <th>875064</th>\n",
       "      <td>CHO THUÊ PHÒNG KTX HIỆN ĐẠI AN NINH 450K TẠI B...</td>\n",
       "      <td>0.450</td>\n",
       "      <td>35.0</td>\n",
       "      <td>Bình Thạnh</td>\n",
       "      <td>Hồ Chí Minh</td>\n",
       "      <td>2018-10-23</td>\n",
       "    </tr>\n",
       "    <tr>\n",
       "      <th>877526</th>\n",
       "      <td>KÝ TÚC XÁ SINH VIÊN GIÁ 450K KV BÌNH THẠNH</td>\n",
       "      <td>0.450</td>\n",
       "      <td>25.0</td>\n",
       "      <td>Bình Thạnh</td>\n",
       "      <td>Hồ Chí Minh</td>\n",
       "      <td>2018-10-24</td>\n",
       "    </tr>\n",
       "    <tr>\n",
       "      <th>881435</th>\n",
       "      <td>Ở ghép KTX máy lạnh giá 450k - Đường Ung Văn K...</td>\n",
       "      <td>0.450</td>\n",
       "      <td>35.0</td>\n",
       "      <td>Bình Thạnh</td>\n",
       "      <td>Hồ Chí Minh</td>\n",
       "      <td>2018-10-24</td>\n",
       "    </tr>\n",
       "    <tr>\n",
       "      <th>902546</th>\n",
       "      <td>Phòng trọ ở ghép KTX gần ĐH Bách Khoa</td>\n",
       "      <td>0.450</td>\n",
       "      <td>30.0</td>\n",
       "      <td>Quận 10</td>\n",
       "      <td>Hồ Chí Minh</td>\n",
       "      <td>2018-10-28</td>\n",
       "    </tr>\n",
       "    <tr>\n",
       "      <th>903557</th>\n",
       "      <td>Cho Thuê KTX Máy Lạnh Tại Q.10</td>\n",
       "      <td>0.450</td>\n",
       "      <td>30.0</td>\n",
       "      <td>Quận 10</td>\n",
       "      <td>Hồ Chí Minh</td>\n",
       "      <td>2018-10-28</td>\n",
       "    </tr>\n",
       "    <tr>\n",
       "      <th>1123705</th>\n",
       "      <td>KTX cao cấp Bình Thạnh giảm giá mạnh nga...</td>\n",
       "      <td>0.450</td>\n",
       "      <td>41.0</td>\n",
       "      <td>Bình Thạnh</td>\n",
       "      <td>Hồ Chí Minh</td>\n",
       "      <td>2018-11-30</td>\n",
       "    </tr>\n",
       "    <tr>\n",
       "      <th>1491943</th>\n",
       "      <td>Ký túc xá máy lạnh giá chỉ 450k/tháng đủ nội t...</td>\n",
       "      <td>0.450</td>\n",
       "      <td>190.0</td>\n",
       "      <td>Quận 8</td>\n",
       "      <td>Hồ Chí Minh</td>\n",
       "      <td>2020-06-07</td>\n",
       "    </tr>\n",
       "    <tr>\n",
       "      <th>1494976</th>\n",
       "      <td>Cho thuê phòng trọ 25m2 195 đường Tân Sơn, Phư...</td>\n",
       "      <td>0.002</td>\n",
       "      <td>25.0</td>\n",
       "      <td>Tân Bình</td>\n",
       "      <td>Hồ Chí Minh</td>\n",
       "      <td>2019-10-23</td>\n",
       "    </tr>\n",
       "    <tr>\n",
       "      <th>1570492</th>\n",
       "      <td>Cần cho thuê 2 căn phòng đẹp GIÁ RẺ gần trường...</td>\n",
       "      <td>0.230</td>\n",
       "      <td>30.0</td>\n",
       "      <td>Bình Thạnh</td>\n",
       "      <td>Hồ Chí Minh</td>\n",
       "      <td>2020-05-30</td>\n",
       "    </tr>\n",
       "    <tr>\n",
       "      <th>1582214</th>\n",
       "      <td>Phòng mới đẹp giá chỉ từ 799k share phòng (hìn...</td>\n",
       "      <td>0.000</td>\n",
       "      <td>20.0</td>\n",
       "      <td>Bình Tân</td>\n",
       "      <td>Hồ Chí Minh</td>\n",
       "      <td>2020-11-30</td>\n",
       "    </tr>\n",
       "    <tr>\n",
       "      <th>1624771</th>\n",
       "      <td>Phòng mới Mặt tiền số 48 Nguyễn Văn Linh, Q7</td>\n",
       "      <td>0.002</td>\n",
       "      <td>28.0</td>\n",
       "      <td>Quận 7</td>\n",
       "      <td>Hồ Chí Minh</td>\n",
       "      <td>2020-10-01</td>\n",
       "    </tr>\n",
       "    <tr>\n",
       "      <th>1625171</th>\n",
       "      <td>Cho thuê phòng giá SALE mùa dịch 297/20 Huỳnh ...</td>\n",
       "      <td>0.005</td>\n",
       "      <td>38.0</td>\n",
       "      <td>Phú Nhuận</td>\n",
       "      <td>Hồ Chí Minh</td>\n",
       "      <td>2020-08-19</td>\n",
       "    </tr>\n",
       "  </tbody>\n",
       "</table>\n",
       "</div>"
      ],
      "text/plain": [
       "                                                     Title  \\\n",
       "Id                                                           \n",
       "836668   Cho thuê KTX máy lạnh 450k/tháng ở xô viết ngh...   \n",
       "841564   KTX sạch , văn minh (gần KCX Tân thuận ) gi...   \n",
       "841683         Cho thuê phòng ktx máy lạnh 450k/tháng ở D3   \n",
       "844429   Phòng KTX máy lạnh 450K cho thuê ở D3 Bình thạnh    \n",
       "852459     Phòng trọ KTX máy lạnh 450K/THÁNG ở bình thạnh    \n",
       "875064   CHO THUÊ PHÒNG KTX HIỆN ĐẠI AN NINH 450K TẠI B...   \n",
       "877526          KÝ TÚC XÁ SINH VIÊN GIÁ 450K KV BÌNH THẠNH   \n",
       "881435   Ở ghép KTX máy lạnh giá 450k - Đường Ung Văn K...   \n",
       "902546         Phòng trọ ở ghép KTX gần ĐH Bách Khoa   \n",
       "903557                   Cho Thuê KTX Máy Lạnh Tại Q.10   \n",
       "1123705  KTX cao cấp Bình Thạnh giảm giá mạnh nga...   \n",
       "1491943  Ký túc xá máy lạnh giá chỉ 450k/tháng đủ nội t...   \n",
       "1494976  Cho thuê phòng trọ 25m2 195 đường Tân Sơn, Phư...   \n",
       "1570492  Cần cho thuê 2 căn phòng đẹp GIÁ RẺ gần trường...   \n",
       "1582214  Phòng mới đẹp giá chỉ từ 799k share phòng (hìn...   \n",
       "1624771       Phòng mới Mặt tiền số 48 Nguyễn Văn Linh, Q7   \n",
       "1625171  Cho thuê phòng giá SALE mùa dịch 297/20 Huỳnh ...   \n",
       "\n",
       "         Price(Triệu/tháng)  Square(m²)    District         City       Date  \n",
       "Id                                                                           \n",
       "836668                0.450        40.0  Bình Thạnh  Hồ Chí Minh 2018-09-29  \n",
       "841564                0.450        25.0      Quận 7  Hồ Chí Minh 2018-10-09  \n",
       "841683                0.450        40.0  Bình Thạnh  Hồ Chí Minh 2018-10-01  \n",
       "844429                0.450        40.0  Bình Thạnh  Hồ Chí Minh 2018-10-01  \n",
       "852459                0.450        40.0  Bình Thạnh  Hồ Chí Minh 2018-10-01  \n",
       "875064                0.450        35.0  Bình Thạnh  Hồ Chí Minh 2018-10-23  \n",
       "877526                0.450        25.0  Bình Thạnh  Hồ Chí Minh 2018-10-24  \n",
       "881435                0.450        35.0  Bình Thạnh  Hồ Chí Minh 2018-10-24  \n",
       "902546                0.450        30.0     Quận 10  Hồ Chí Minh 2018-10-28  \n",
       "903557                0.450        30.0     Quận 10  Hồ Chí Minh 2018-10-28  \n",
       "1123705               0.450        41.0  Bình Thạnh  Hồ Chí Minh 2018-11-30  \n",
       "1491943               0.450       190.0      Quận 8  Hồ Chí Minh 2020-06-07  \n",
       "1494976               0.002        25.0    Tân Bình  Hồ Chí Minh 2019-10-23  \n",
       "1570492               0.230        30.0  Bình Thạnh  Hồ Chí Minh 2020-05-30  \n",
       "1582214               0.000        20.0    Bình Tân  Hồ Chí Minh 2020-11-30  \n",
       "1624771               0.002        28.0      Quận 7  Hồ Chí Minh 2020-10-01  \n",
       "1625171               0.005        38.0   Phú Nhuận  Hồ Chí Minh 2020-08-19  "
      ]
     },
     "execution_count": 180,
     "metadata": {},
     "output_type": "execute_result"
    }
   ],
   "source": [
    "df_info[df_info['Price(Triệu/tháng)'] < 0.5]"
   ]
  },
  {
   "attachments": {},
   "cell_type": "markdown",
   "metadata": {},
   "source": [
    "Remember data has Id 1570492 (2 rooms). Maybe we can change 0.23 to 2.3\n",
    "\n",
    "and the data has Id 1625171, change 0.005 to 5\n",
    "\n",
    "Finally, drop all data has the Price under 0.05"
   ]
  },
  {
   "cell_type": "code",
   "execution_count": 182,
   "metadata": {},
   "outputs": [],
   "source": [
    "df_info.loc[1570492, 'Price(Triệu/tháng)'] = 2.3\n",
    "df_info.loc[1625171, 'Price(Triệu/tháng)'] = 5\n",
    "df_info.drop(index = df_info[df_info['Price(Triệu/tháng)']<0.05].index, inplace = True)"
   ]
  },
  {
   "attachments": {},
   "cell_type": "markdown",
   "metadata": {},
   "source": [
    "----"
   ]
  },
  {
   "cell_type": "code",
   "execution_count": 183,
   "metadata": {},
   "outputs": [
    {
     "data": {
      "text/plain": [
       "Title                         object\n",
       "Price(Triệu/tháng)           float64\n",
       "Square(m²)                   float64\n",
       "District                      object\n",
       "City                          object\n",
       "Date                  datetime64[ns]\n",
       "dtype: object"
      ]
     },
     "execution_count": 183,
     "metadata": {},
     "output_type": "execute_result"
    }
   ],
   "source": [
    "df_info.dtypes"
   ]
  },
  {
   "attachments": {},
   "cell_type": "markdown",
   "metadata": {},
   "source": [
    "That's all bout df_info. Let's consider the remaining data types\n",
    "* Percentage of null values in each column\n",
    "* Amount is difference between columns\n",
    "* Mode of value"
   ]
  },
  {
   "cell_type": "code",
   "execution_count": 203,
   "metadata": {},
   "outputs": [
    {
     "data": {
      "text/html": [
       "<div>\n",
       "<style scoped>\n",
       "    .dataframe tbody tr th:only-of-type {\n",
       "        vertical-align: middle;\n",
       "    }\n",
       "\n",
       "    .dataframe tbody tr th {\n",
       "        vertical-align: top;\n",
       "    }\n",
       "\n",
       "    .dataframe thead th {\n",
       "        text-align: right;\n",
       "    }\n",
       "</style>\n",
       "<table border=\"1\" class=\"dataframe\">\n",
       "  <thead>\n",
       "    <tr style=\"text-align: right;\">\n",
       "      <th></th>\n",
       "      <th>Title</th>\n",
       "      <th>District</th>\n",
       "      <th>City</th>\n",
       "    </tr>\n",
       "  </thead>\n",
       "  <tbody>\n",
       "    <tr>\n",
       "      <th>Missing Ratio</th>\n",
       "      <td>0.0</td>\n",
       "      <td>0.0</td>\n",
       "      <td>0.0</td>\n",
       "    </tr>\n",
       "    <tr>\n",
       "      <th>Difference Value</th>\n",
       "      <td>1131.0</td>\n",
       "      <td>22.0</td>\n",
       "      <td>1.0</td>\n",
       "    </tr>\n",
       "    <tr>\n",
       "      <th>Most Frequency</th>\n",
       "      <td>1.0</td>\n",
       "      <td>171.0</td>\n",
       "      <td>1131.0</td>\n",
       "    </tr>\n",
       "    <tr>\n",
       "      <th>Least Frequency</th>\n",
       "      <td>1.0</td>\n",
       "      <td>5.0</td>\n",
       "      <td>1131.0</td>\n",
       "    </tr>\n",
       "  </tbody>\n",
       "</table>\n",
       "</div>"
      ],
      "text/plain": [
       "                   Title  District    City\n",
       "Missing Ratio        0.0       0.0     0.0\n",
       "Difference Value  1131.0      22.0     1.0\n",
       "Most Frequency       1.0     171.0  1131.0\n",
       "Least Frequency      1.0       5.0  1131.0"
      ]
     },
     "execution_count": 203,
     "metadata": {},
     "output_type": "execute_result"
    }
   ],
   "source": [
    "col = ['Title','District','City']\n",
    "room_description = pd.DataFrame(columns=col, index=['Missing Ratio','Difference Value', 'Most Frequency', 'Least Frequency'])\n",
    "for i in col:\n",
    "\tmissing = df_info[i].isna().sum()\n",
    "\tmissing_ratio = missing * 100 / len(df_info)\n",
    "\tdifference_value = len(df_info[i].dropna().unique())\n",
    "\tvalue_counts = df_info[i].dropna().value_counts()\n",
    "\tmost_frequency = value_counts[0]\n",
    "\tleast_frequency = value_counts[-1]\n",
    "\troom_description[i] = [missing_ratio, difference_value, most_frequency, least_frequency]\n",
    "room_description"
   ]
  },
  {
   "attachments": {},
   "cell_type": "markdown",
   "metadata": {},
   "source": [
    "Draw chart to know more about data\n",
    "* Statistic amount of room according to district\n",
    "* According to Price\n",
    "* According to Square\n",
    "\n"
   ]
  },
  {
   "cell_type": "code",
   "execution_count": 205,
   "metadata": {},
   "outputs": [
    {
     "data": {
      "text/plain": [
       "array(['Quận 3', 'Quận 7', 'Quận 10', 'Tân Bình', 'Gò Vấp', 'Bình Thạnh',\n",
       "       'Phú Nhuận', 'Quận 4', 'Quận 2', 'Tân Phú', 'Quận 1', 'Bình Tân',\n",
       "       'Quận 9', 'Quận 11', 'Thủ Đức', 'Hóc Môn', 'Quận 8', 'Quận 5',\n",
       "       'Quận 6', 'Quận 12', 'Nhà Bè', 'Bình Chánh'], dtype=object)"
      ]
     },
     "execution_count": 205,
     "metadata": {},
     "output_type": "execute_result"
    }
   ],
   "source": [
    "df_info['District'].unique()"
   ]
  },
  {
   "cell_type": "code",
   "execution_count": 238,
   "metadata": {},
   "outputs": [
    {
     "data": {
      "text/plain": [
       "Text(0.5, 0, 'Số lượng phòng')"
      ]
     },
     "execution_count": 238,
     "metadata": {},
     "output_type": "execute_result"
    },
    {
     "data": {
      "image/png": "[encoded data removed]",
      "text/plain": [
       "<Figure size 640x480 with 1 Axes>"
      ]
     },
     "metadata": {},
     "output_type": "display_data"
    }
   ],
   "source": [
    "# Let's count rooms per district\n",
    "value_counts = df_info['District'].value_counts()\n",
    "plt.barh(value_counts.keys(), value_counts.values)\n",
    "plt.title('Thống kê số lượng phòng theo từng huyện')\n",
    "plt.ylabel('Huyện')\n",
    "plt.xlabel('Số lượng phòng')"
   ]
  },
  {
   "cell_type": "code",
   "execution_count": 236,
   "metadata": {},
   "outputs": [
    {
     "data": {
      "text/plain": [
       "Text(0, 0.5, 'Số lượng')"
      ]
     },
     "execution_count": 236,
     "metadata": {},
     "output_type": "execute_result"
    },
    {
     "data": {
      "image/png": "[encoded data removed]",
      "text/plain": [
       "<Figure size 640x480 with 1 Axes>"
      ]
     },
     "metadata": {},
     "output_type": "display_data"
    }
   ],
   "source": [
    "# Count rooms per Price\n",
    "value_counts = df_info['Price(Triệu/tháng)'].value_counts()\n",
    "value_counts = value_counts.sort_index()\n",
    "plt.bar(value_counts.keys(), value_counts.values)\n",
    "plt.title('Thống kê số lượng phòng theo giá cả phòng trọ')\n",
    "plt.xlabel('Giá (Triệu/tháng)')\n",
    "plt.ylabel('Số lượng')"
   ]
  },
  {
   "attachments": {},
   "cell_type": "markdown",
   "metadata": {},
   "source": [
    "Data under 10 mil is kind of easy to analyze. Come get it and let's view it"
   ]
  },
  {
   "cell_type": "code",
   "execution_count": 243,
   "metadata": {},
   "outputs": [
    {
     "data": {
      "image/png": "[encoded data removed]",
      "text/plain": [
       "<Figure size 1400x500 with 1 Axes>"
      ]
     },
     "metadata": {},
     "output_type": "display_data"
    }
   ],
   "source": [
    "price_under_10 = df_info[df_info['Price(Triệu/tháng)'] < 10]['Price(Triệu/tháng)']\n",
    "price_list_range = np.arange(0,11,1)\n",
    "\n",
    "range_price_10 = pd.cut(price_under_10,bins = price_list_range)\n",
    "count_price_10 = range_price_10.value_counts().sort_index()\n",
    "count_price_10 = count_price_10.reset_index()\n",
    "count_price_10.columns = [\"Range\",\"So luong\"]\n",
    "count_price_10[\"Range\"] = count_price_10[\"Range\"].astype(str)\n",
    "\n",
    "plt.subplots(figsize = (14,5))\n",
    "plt.bar(count_price_10[\"Range\"],count_price_10[\"So luong\"])\n",
    "plt.xlabel('Khoảng Giá')\n",
    "plt.ylabel('Số lượng nhà')\n",
    "plt.tight_layout()\n",
    "plt.show()"
   ]
  },
  {
   "attachments": {},
   "cell_type": "markdown",
   "metadata": {},
   "source": [
    "Visualize statistical chart with rooms per square"
   ]
  },
  {
   "cell_type": "code",
   "execution_count": 249,
   "metadata": {},
   "outputs": [
    {
     "data": {
      "image/png": "[encoded data removed]",
      "text/plain": [
       "<Figure size 1400x500 with 1 Axes>"
      ]
     },
     "metadata": {},
     "output_type": "display_data"
    }
   ],
   "source": [
    "a = df_info[\"Square(m²)\"].dropna()\n",
    "b = pd.cut(a.values,bins=10)\n",
    "\n",
    "c = b.value_counts().sort_index()\n",
    "c = c.reset_index()\n",
    "c.columns = [\"Range\",\"So luong\"]\n",
    "c[\"Range\"] = c[\"Range\"].astype(str)\n",
    "plt.subplots(figsize = (14,5))\n",
    "plt.bar(c[\"Range\"],c[\"So luong\"])\n",
    "plt.xlabel('Khoảng diện tích')\n",
    "plt.ylabel('Số lượng nhà')\n",
    "plt.tight_layout()\n",
    "plt.show()"
   ]
  },
  {
   "attachments": {},
   "cell_type": "markdown",
   "metadata": {},
   "source": [
    "Data concentration under 80.8 (Get 70 is the standard and visualize clearer)"
   ]
  },
  {
   "cell_type": "code",
   "execution_count": 250,
   "metadata": {},
   "outputs": [
    {
     "data": {
      "image/png": "[encoded data removed]",
      "text/plain": [
       "<Figure size 1400x500 with 1 Axes>"
      ]
     },
     "metadata": {},
     "output_type": "display_data"
    }
   ],
   "source": [
    "square150 =  df_info[df_info[\"Square(m²)\"] <= 70][\"Square(m²)\"]\n",
    "range_square150 = pd.cut(square150,bins = 10)\n",
    "\n",
    "count_square150 = range_square150.value_counts().sort_index()\n",
    "count_square150 = count_square150.reset_index()\n",
    "count_square150.columns = [\"Range\",\"So luong\"]\n",
    "count_square150[\"Range\"] = count_square150[\"Range\"].astype(str)\n",
    "plt.subplots(figsize = (14,5))\n",
    "plt.bar(count_square150[\"Range\"],count_square150[\"So luong\"])\n",
    "plt.xlabel('Khoảng diện tích')\n",
    "plt.ylabel('Số lượng nhà')\n",
    "plt.tight_layout()\n",
    "plt.show()"
   ]
  },
  {
   "attachments": {},
   "cell_type": "markdown",
   "metadata": {},
   "source": [
    "Let's see the relationship between the square and the price using scatter plot"
   ]
  },
  {
   "cell_type": "code",
   "execution_count": 258,
   "metadata": {},
   "outputs": [
    {
     "data": {
      "image/png": "[encoded data removed]",
      "text/plain": [
       "<Figure size 640x480 with 1 Axes>"
      ]
     },
     "metadata": {},
     "output_type": "display_data"
    }
   ],
   "source": [
    "df_price_square = df_info[[\"Price(Triệu/tháng)\",\"Square(m²)\"]]\n",
    "\n",
    "# sns.scatterplot(df_price_square,x = df_price_square[\"Price(Triệu/tháng)\"],y = df_price_square[\"Square(m²)\"])\n",
    "sns.scatterplot(x = df_price_square[\"Price(Triệu/tháng)\"],y = df_price_square[\"Square(m²)\"])\n",
    "plt.show()\n"
   ]
  },
  {
   "attachments": {},
   "cell_type": "markdown",
   "metadata": {},
   "source": [
    "We can see that the data concentrate on at the left below in the chart. Particularly, the price is under 10 and the square is under 100. So get this area and visualize clearly"
   ]
  },
  {
   "cell_type": "code",
   "execution_count": 270,
   "metadata": {},
   "outputs": [
    {
     "data": {
      "image/png": "[encoded data removed]",
      "text/plain": [
       "<Figure size 640x480 with 1 Axes>"
      ]
     },
     "metadata": {},
     "output_type": "display_data"
    }
   ],
   "source": [
    "df_price_square = df_price_square[df_price_square['Price(Triệu/tháng)'] < 10]\n",
    "df_price_square = df_price_square[df_price_square['Square(m²)'] < 100]\n",
    "sns.scatterplot(x = df_price_square[\"Price(Triệu/tháng)\"],y = df_price_square[\"Square(m²)\"])\n",
    "plt.show()\n"
   ]
  },
  {
   "attachments": {},
   "cell_type": "markdown",
   "metadata": {},
   "source": [
    "Next, we will statistic the amount of rooms based on date (year and month)"
   ]
  },
  {
   "cell_type": "code",
   "execution_count": 317,
   "metadata": {},
   "outputs": [
    {
     "name": "stdout",
     "output_type": "stream",
     "text": [
      "2020    326\n",
      "2019    266\n",
      "2018    212\n",
      "2021    207\n",
      "2022    120\n",
      "dtype: int64\n"
     ]
    },
    {
     "data": {
      "image/png": "[encoded data removed]",
      "text/plain": [
       "<Figure size 640x480 with 1 Axes>"
      ]
     },
     "metadata": {},
     "output_type": "display_data"
    }
   ],
   "source": [
    "date = df_info['Date'].to_list()\n",
    "year = [i.year for i in date]\n",
    "year = pd.Series(year)\n",
    "year_counts = year.value_counts()\n",
    "print(year_counts)\n",
    "plt.bar(year_counts.index, year_counts.values)\n",
    "plt.xlabel('Năm')\n",
    "plt.ylabel('Số lượng bài đăng')\n",
    "plt.show()"
   ]
  },
  {
   "cell_type": "code",
   "execution_count": 318,
   "metadata": {},
   "outputs": [
    {
     "data": {
      "image/png": "[encoded data removed]",
      "text/plain": [
       "<Figure size 640x480 with 1 Axes>"
      ]
     },
     "metadata": {},
     "output_type": "display_data"
    }
   ],
   "source": [
    "month = df_info['Date'].array[:].month\n",
    "df_month = pd.Series(month)\n",
    "num_month = df_month.value_counts()\n",
    "plt.bar(num_month.index,num_month.values)\n",
    "plt.xlabel('Tháng')\n",
    "plt.ylabel('Số lượng bài đăng')\n",
    "plt.show()"
   ]
  },
  {
   "attachments": {},
   "cell_type": "markdown",
   "metadata": {},
   "source": [
    "----\n",
    "Save df_info to a new file called clean_data"
   ]
  },
  {
   "cell_type": "code",
   "execution_count": null,
   "metadata": {},
   "outputs": [],
   "source": [
    "df_info.to_csv('clean_data.csv')"
   ]
  }
 ],
 "metadata": {
  "kernelspec": {
   "display_name": "base",
   "language": "python",
   "name": "python3"
  },
  "language_info": {
   "codemirror_mode": {
    "name": "ipython",
    "version": 3
   },
   "file_extension": ".py",
   "mimetype": "text/x-python",
   "name": "python",
   "nbconvert_exporter": "python",
   "pygments_lexer": "ipython3",
   "version": "3.9.13"
  },
  "orig_nbformat": 4,
  "vscode": {
   "interpreter": {
    "hash": "5c043fe8d917de58502c0ff917ef6a8bc6988f96fc7225ef9721be17873a29ea"
   }
  }
 },
 "nbformat": 4,
 "nbformat_minor": 2
}
